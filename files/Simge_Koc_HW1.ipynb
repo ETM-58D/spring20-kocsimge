{
 "cells": [
  {
   "cell_type": "markdown",
   "metadata": {},
   "source": [
    "## HW 1"
   ]
  },
  {
   "cell_type": "markdown",
   "metadata": {},
   "source": [
    "#### Question 1 - Part a"
   ]
  },
  {
   "cell_type": "code",
   "execution_count": 1,
   "metadata": {},
   "outputs": [],
   "source": [
    "set.seed(1)\n",
    "nof_samples=1000\n",
    "\n",
    "## Creating 10D Data\n",
    "\n",
    "d1 = runif(nof_samples,min=-1,max=1)\n",
    "d2 = runif(nof_samples,min=-1,max=1)\n",
    "d3 = runif(nof_samples,min=-1,max=1)\n",
    "d4 = runif(nof_samples,min=-1,max=1)\n",
    "d5 = runif(nof_samples,min=-1,max=1)\n",
    "d6 = runif(nof_samples,min=-1,max=1)\n",
    "d7 = runif(nof_samples,min=-1,max=1)\n",
    "d8 = runif(nof_samples,min=-1,max=1)\n",
    "d9 = runif(nof_samples,min=-1,max=1)\n",
    "d10 = runif(nof_samples,min=-1,max=1)"
   ]
  },
  {
   "cell_type": "code",
   "execution_count": 105,
   "metadata": {},
   "outputs": [
    {
     "name": "stdout",
     "output_type": "stream",
     "text": [
      "[1] 1\n",
      "[1] 0.794\n",
      "[1] 0.513\n",
      "[1] 0.298\n",
      "[1] 0.154\n",
      "[1] 0.073\n",
      "[1] 0.035\n",
      "[1] 0.015\n",
      "[1] 0.006\n",
      "[1] 0.002\n"
     ]
    }
   ],
   "source": [
    "## Calculate Distances & Fractions\n",
    "\n",
    "data1d = as.matrix(d1)\n",
    "dist1 = sqrt((data1d - 0)^2)\n",
    "frac1 = (length(which(dist1 <= 1)))/nof_samples\n",
    "print(frac1)\n",
    "\n",
    "data2d = matrix(d1, d2, nrow = nof_samples, ncol=2)\n",
    "dist2 = sqrt((data2d[,1]-0)^2+(data2d[,2]-0)^2)\n",
    "frac2 = (length(which(dist2 <= 1)))/nof_samples\n",
    "print(frac2)\n",
    "\n",
    "data3d = cbind(data2d, d3)\n",
    "dist3 = sqrt((data3d[,1]-0)^2+(data3d[,2]-0)^2+(data3d[,3]-0)^2)\n",
    "frac3 = (length(which(dist3 <= 1)))/nof_samples\n",
    "print(frac3)\n",
    "\n",
    "\n",
    "data4d = cbind(data3d, d4)\n",
    "dist4 = sqrt((data4d[,1]-0)^2+(data4d[,2]-0)^2+(data4d[,3]-0)^2 +(data4d[,4]-0)^2 )\n",
    "frac4 = (length(which(dist4 <= 1)))/nof_samples\n",
    "print(frac4)\n",
    "\n",
    "data5d = cbind(data4d, d5)\n",
    "dist5 = sqrt((data5d[,1]-0)^2+(data5d[,2]-0)^2+(data5d[,3]-0)^2 +(data5d[,4]-0)^2 +(data5d[,5]-0)^2)\n",
    "frac5 = (length(which(dist5 <= 1)))/nof_samples\n",
    "print(frac5)\n",
    "\n",
    "data6d = cbind(data5d, d6)\n",
    "dist6 = sqrt((data6d[,1]-0)^2+(data6d[,2]-0)^2+(data6d[,3]-0)^2 +(data6d[,4]-0)^2 +(data6d[,5]-0)^2+(data6d[,6]-0)^2)\n",
    "frac6 = (length(which(dist6 <= 1)))/nof_samples\n",
    "print(frac6)\n",
    "\n",
    "data7d = cbind(data6d, d7)\n",
    "dist7 = sqrt((data7d[,1]-0)^2+(data7d[,2]-0)^2+(data7d[,3]-0)^2 +(data7d[,4]-0)^2 +(data7d[,5]-0)^2+(data7d[,6]-0)^2+(data7d[,7]-0)^2)\n",
    "frac7 = (length(which(dist7 <= 1)))/nof_samples\n",
    "print(frac7)\n",
    "\n",
    "data8d = cbind(data7d, d8)\n",
    "dist8 = sqrt((data8d[,1]-0)^2+(data8d[,2]-0)^2+(data8d[,3]-0)^2 +(data8d[,4]-0)^2 +(data8d[,5]-0)^2+(data8d[,6]-0)^2+(data8d[,7]-0)^2+(data8d[,8]-0)^2)\n",
    "frac8 = (length(which(dist8 <= 1)))/nof_samples\n",
    "print(frac8)\n",
    "\n",
    "data9d = cbind(data8d, d9)\n",
    "dist9 = sqrt((data9d[,1]-0)^2+(data9d[,2]-0)^2+(data9d[,3]-0)^2 +(data9d[,4]-0)^2 +(data9d[,5]-0)^2+(data9d[,6]-0)^2+(data9d[,7]-0)^2+(data9d[,8]-0)^2+(data9d[,9]-0)^2)\n",
    "frac9 = (length(which(dist9 <= 1)))/nof_samples\n",
    "print(frac9)\n",
    "\n",
    "data10d = cbind(data9d, d10)\n",
    "dist10 = sqrt((data10d[,1]-0)^2+(data10d[,2]-0)^2+(data10d[,3]-0)^2 +(data10d[,4]-0)^2 +(data10d[,5]-0)^2+(data10d[,6]-0)^2+(data10d[,7]-0)^2+(data10d[,8]-0)^2+(data10d[,9]-0)^2+(data10d[,10]-0)^2)\n",
    "frac10 = (length(which(dist10 <= 1)))/nof_samples\n",
    "print(frac10)\n"
   ]
  },
  {
   "cell_type": "code",
   "execution_count": 58,
   "metadata": {},
   "outputs": [
    {
     "data": {
      "image/png": "[encoded data removed]",
      "text/plain": [
       "plot without title"
      ]
     },
     "metadata": {},
     "output_type": "display_data"
    }
   ],
   "source": [
    "## Plot Fractions\n",
    "\n",
    "frac = c(frac1, frac2, frac3, frac4, frac5, frac6, frac7, frac8, frac9, frac10)\n",
    "plot(frac)"
   ]
  },
  {
   "cell_type": "markdown",
   "metadata": {},
   "source": [
    "##### As dimension increase, fraction decreases."
   ]
  },
  {
   "cell_type": "markdown",
   "metadata": {},
   "source": [
    "#### Question 1 - Part b"
   ]
  },
  {
   "cell_type": "code",
   "execution_count": 59,
   "metadata": {},
   "outputs": [
    {
     "name": "stdout",
     "output_type": "stream",
     "text": [
      "[1] 3.176\n",
      "[1] 3.078\n"
     ]
    }
   ],
   "source": [
    "# pi estimation for 2d\n",
    "#fraction = area of the circle / area of the square \n",
    "#fraction = pi*r2 / 2*2\n",
    "#fraction = pi / 4\n",
    "pi_est_2d = frac2*4\n",
    "print(pi_est_2d)\n",
    "\n",
    "#pi estimation for 3d\n",
    "#fraction = volume of the sphere / volume of the cube\n",
    "#fraction = 4/3*pi*r3 / 2*2*2\n",
    "#fraction = pi / 6\n",
    "pi_est_3d = frac3*6\n",
    "print(pi_est_3d)"
   ]
  },
  {
   "cell_type": "markdown",
   "metadata": {},
   "source": [
    "#### Question 1 - Part c"
   ]
  },
  {
   "cell_type": "code",
   "execution_count": 185,
   "metadata": {},
   "outputs": [],
   "source": [
    "set.seed(2) ## Change seed to find diffent samples.\n",
    "nof_new_samples=100\n",
    "\n",
    "## Creating 10D Data\n",
    "\n",
    "dd1 = runif(nof_new_samples,min=-1,max=1)\n",
    "dd2 = runif(nof_new_samples,min=-1,max=1)\n",
    "dd3 = runif(nof_new_samples,min=-1,max=1)\n",
    "dd4 = runif(nof_new_samples,min=-1,max=1)\n",
    "dd5 = runif(nof_new_samples,min=-1,max=1)\n",
    "dd6 = runif(nof_new_samples,min=-1,max=1)\n",
    "dd7 = runif(nof_new_samples,min=-1,max=1)\n",
    "dd8 = runif(nof_new_samples,min=-1,max=1)\n",
    "dd9 = runif(nof_new_samples,min=-1,max=1)\n",
    "dd10 = runif(nof_new_samples,min=-1,max=1)\n",
    "\n",
    "ddata1d = as.matrix(dd1)\n",
    "ddata2d = matrix(dd1, dd2, nrow = nof_new_samples, ncol=2)\n",
    "ddata3d = cbind(ddata2d, dd3)\n",
    "ddata4d = cbind(ddata3d, dd4)\n",
    "ddata5d = cbind(ddata4d, dd5)\n",
    "ddata6d = cbind(ddata5d, dd4)\n",
    "ddata7d = cbind(ddata6d, dd7)\n",
    "ddata8d = cbind(ddata7d, dd8)\n",
    "ddata9d = cbind(ddata8d, dd9)\n",
    "ddata10d = cbind(ddata9d, dd10)"
   ]
  },
  {
   "cell_type": "code",
   "execution_count": 186,
   "metadata": {},
   "outputs": [],
   "source": [
    "# install.packages('proxy')\n",
    "library(proxy)\n",
    "\n",
    "dist_mat_1d = proxy::dist(ddata1d,data1d)\n",
    "dist_mat_2d = proxy::dist(ddata2d,data2d) \n",
    "dist_mat_3d = proxy::dist(ddata3d,data3d) \n",
    "dist_mat_4d = proxy::dist(ddata4d,data4d) \n",
    "dist_mat_5d = proxy::dist(ddata5d,data5d) \n",
    "dist_mat_6d = proxy::dist(ddata6d,data6d) \n",
    "dist_mat_7d = proxy::dist(ddata7d,data7d) \n",
    "dist_mat_8d = proxy::dist(ddata8d,data8d) \n",
    "dist_mat_9d = proxy::dist(ddata9d,data9d) \n",
    "dist_mat_10d = proxy::dist(ddata10d,data10d) "
   ]
  },
  {
   "cell_type": "code",
   "execution_count": 189,
   "metadata": {},
   "outputs": [
    {
     "name": "stdout",
     "output_type": "stream",
     "text": [
      "[1] 0.001002376\n",
      "[1] 0.04458382\n",
      "[1] 0.1083838\n",
      "[1] 0.2316813\n",
      "[1] 0.3546707\n",
      "[1] 0.4986444\n",
      "[1] 0.4986444\n",
      "[1] 0.62923\n",
      "[1] 0.7596243\n",
      "[1] 0.8996495\n",
      "[1] 1.029346\n"
     ]
    }
   ],
   "source": [
    "min_1d = t(sapply(seq(nrow(dist_mat_1d)), function(i) {\n",
    "    j <- which.min(dist_mat_1d[i,])\n",
    "    c(i, dist_mat_1d[i,j])\n",
    "}))\n",
    "    \n",
    "avg_1d = mean(min_1d[,2])\n",
    "print(avg_1d)\n",
    "\n",
    "min_2d = t(sapply(seq(nrow(dist_mat_2d)), function(i) {\n",
    "    j <- which.min(dist_mat_2d[i,])\n",
    "    c(i, dist_mat_2d[i,j])\n",
    "}))\n",
    "    \n",
    "avg_2d = mean(min_2d[,2])\n",
    "print(avg_2d)\n",
    "\n",
    "min_3d = t(sapply(seq(nrow(dist_mat_3d)), function(i) {\n",
    "    j <- which.min(dist_mat_3d[i,])\n",
    "    c(i, dist_mat_3d[i,j])\n",
    "}))\n",
    "    \n",
    "avg_3d = mean(min_3d[,2])\n",
    "print(avg_3d)\n",
    "\n",
    "min_4d = t(sapply(seq(nrow(dist_mat_4d)), function(i) {\n",
    "    j <- which.min(dist_mat_4d[i,])\n",
    "    c(i, dist_mat_4d[i,j])\n",
    "}))\n",
    "    \n",
    "avg_4d = mean(min_4d[,2])\n",
    "print(avg_4d)\n",
    "\n",
    "min_5d = t(sapply(seq(nrow(dist_mat_5d)), function(i) {\n",
    "    j <- which.min(dist_mat_5d[i,])\n",
    "    c(i, dist_mat_5d[i,j])\n",
    "}))\n",
    "    \n",
    "avg_5d = mean(min_5d[,2])\n",
    "print(avg_5d)\n",
    "\n",
    "min_6d = t(sapply(seq(nrow(dist_mat_6d)), function(i) {\n",
    "    j <- which.min(dist_mat_6d[i,])\n",
    "    c(i, dist_mat_6d[i,j])\n",
    "}))\n",
    "    \n",
    "avg_6d = mean(min_6d[,2])\n",
    "print(avg_6d)\n",
    "\n",
    "min_6d = t(sapply(seq(nrow(dist_mat_6d)), function(i) {\n",
    "    j <- which.min(dist_mat_6d[i,])\n",
    "    c(i, dist_mat_6d[i,j])\n",
    "}))\n",
    "    \n",
    "avg_6d = mean(min_6d[,2])\n",
    "print(avg_6d)\n",
    "\n",
    "min_7d = t(sapply(seq(nrow(dist_mat_7d)), function(i) {\n",
    "    j <- which.min(dist_mat_7d[i,])\n",
    "    c(i, dist_mat_7d[i,j])\n",
    "}))\n",
    "    \n",
    "avg_7d = mean(min_7d[,2])\n",
    "print(avg_7d)\n",
    "\n",
    "min_8d = t(sapply(seq(nrow(dist_mat_8d)), function(i) {\n",
    "    j <- which.min(dist_mat_8d[i,])\n",
    "    c(i, dist_mat_8d[i,j])\n",
    "}))\n",
    "    \n",
    "avg_8d = mean(min_8d[,2])\n",
    "print(avg_8d)\n",
    "\n",
    "min_9d = t(sapply(seq(nrow(dist_mat_9d)), function(i) {\n",
    "    j <- which.min(dist_mat_9d[i,])\n",
    "    c(i, dist_mat_9d[i,j])\n",
    "}))\n",
    "    \n",
    "avg_9d = mean(min_9d[,2])\n",
    "print(avg_9d)\n",
    "\n",
    "min_10d = t(sapply(seq(nrow(dist_mat_10d)), function(i) {\n",
    "    j <- which.min(dist_mat_10d[i,])\n",
    "    c(i, dist_mat_10d[i,j])\n",
    "}))\n",
    "    \n",
    "avg_10d = mean(min_10d[,2])\n",
    "print(avg_10d)"
   ]
  },
  {
   "cell_type": "code",
   "execution_count": 190,
   "metadata": {},
   "outputs": [
    {
     "data": {
      "image/png": "[encoded data removed]",
      "text/plain": [
       "plot without title"
      ]
     },
     "metadata": {},
     "output_type": "display_data"
    }
   ],
   "source": [
    "## Plot Averages\n",
    "avg = c(avg_1d, avg_2d, avg_3d, avg_4d, avg_5d, avg_6d, avg_7d, avg_8d, avg_9d, avg_10d)\n",
    "plot(avg)"
   ]
  },
  {
   "cell_type": "markdown",
   "metadata": {},
   "source": [
    "##### As dimension increase, average distances between points also increase which makes harder for us to make relations between different features."
   ]
  },
  {
   "cell_type": "markdown",
   "metadata": {},
   "source": [
    "#### Question 2"
   ]
  },
  {
   "cell_type": "code",
   "execution_count": 191,
   "metadata": {},
   "outputs": [
    {
     "data": {
      "text/html": [
       "<table>\n",
       "<thead><tr><th scope=col>X</th><th scope=col>crim</th><th scope=col>zn</th><th scope=col>indus</th><th scope=col>chas</th><th scope=col>nox</th><th scope=col>rm</th><th scope=col>age</th><th scope=col>dis</th><th scope=col>rad</th><th scope=col>tax</th><th scope=col>ptratio</th><th scope=col>black</th><th scope=col>lstat</th><th scope=col>medv</th></tr></thead>\n",
       "<tbody>\n",
       "\t<tr><td>1      </td><td>0.00632</td><td>18     </td><td>2.31   </td><td>0      </td><td>0.538  </td><td>6.575  </td><td>65.2   </td><td>4.0900 </td><td>1      </td><td>296    </td><td>15.3   </td><td>396.90 </td><td>4.98   </td><td>24.0   </td></tr>\n",
       "\t<tr><td>2      </td><td>0.02731</td><td> 0     </td><td>7.07   </td><td>0      </td><td>0.469  </td><td>6.421  </td><td>78.9   </td><td>4.9671 </td><td>2      </td><td>242    </td><td>17.8   </td><td>396.90 </td><td>9.14   </td><td>21.6   </td></tr>\n",
       "\t<tr><td>3      </td><td>0.02729</td><td> 0     </td><td>7.07   </td><td>0      </td><td>0.469  </td><td>7.185  </td><td>61.1   </td><td>4.9671 </td><td>2      </td><td>242    </td><td>17.8   </td><td>392.83 </td><td>4.03   </td><td>34.7   </td></tr>\n",
       "\t<tr><td>4      </td><td>0.03237</td><td> 0     </td><td>2.18   </td><td>0      </td><td>0.458  </td><td>6.998  </td><td>45.8   </td><td>6.0622 </td><td>3      </td><td>222    </td><td>18.7   </td><td>394.63 </td><td>2.94   </td><td>33.4   </td></tr>\n",
       "\t<tr><td>5      </td><td>0.06905</td><td> 0     </td><td>2.18   </td><td>0      </td><td>0.458  </td><td>7.147  </td><td>54.2   </td><td>6.0622 </td><td>3      </td><td>222    </td><td>18.7   </td><td>396.90 </td><td>5.33   </td><td>36.2   </td></tr>\n",
       "\t<tr><td>6      </td><td>0.02985</td><td> 0     </td><td>2.18   </td><td>0      </td><td>0.458  </td><td>6.430  </td><td>58.7   </td><td>6.0622 </td><td>3      </td><td>222    </td><td>18.7   </td><td>394.12 </td><td>5.21   </td><td>28.7   </td></tr>\n",
       "</tbody>\n",
       "</table>\n"
      ],
      "text/latex": [
       "\\begin{tabular}{r|lllllllllllllll}\n",
       " X & crim & zn & indus & chas & nox & rm & age & dis & rad & tax & ptratio & black & lstat & medv\\\\\n",
       "\\hline\n",
       "\t 1       & 0.00632 & 18      & 2.31    & 0       & 0.538   & 6.575   & 65.2    & 4.0900  & 1       & 296     & 15.3    & 396.90  & 4.98    & 24.0   \\\\\n",
       "\t 2       & 0.02731 &  0      & 7.07    & 0       & 0.469   & 6.421   & 78.9    & 4.9671  & 2       & 242     & 17.8    & 396.90  & 9.14    & 21.6   \\\\\n",
       "\t 3       & 0.02729 &  0      & 7.07    & 0       & 0.469   & 7.185   & 61.1    & 4.9671  & 2       & 242     & 17.8    & 392.83  & 4.03    & 34.7   \\\\\n",
       "\t 4       & 0.03237 &  0      & 2.18    & 0       & 0.458   & 6.998   & 45.8    & 6.0622  & 3       & 222     & 18.7    & 394.63  & 2.94    & 33.4   \\\\\n",
       "\t 5       & 0.06905 &  0      & 2.18    & 0       & 0.458   & 7.147   & 54.2    & 6.0622  & 3       & 222     & 18.7    & 396.90  & 5.33    & 36.2   \\\\\n",
       "\t 6       & 0.02985 &  0      & 2.18    & 0       & 0.458   & 6.430   & 58.7    & 6.0622  & 3       & 222     & 18.7    & 394.12  & 5.21    & 28.7   \\\\\n",
       "\\end{tabular}\n"
      ],
      "text/markdown": [
       "\n",
       "| X | crim | zn | indus | chas | nox | rm | age | dis | rad | tax | ptratio | black | lstat | medv |\n",
       "|---|---|---|---|---|---|---|---|---|---|---|---|---|---|---|\n",
       "| 1       | 0.00632 | 18      | 2.31    | 0       | 0.538   | 6.575   | 65.2    | 4.0900  | 1       | 296     | 15.3    | 396.90  | 4.98    | 24.0    |\n",
       "| 2       | 0.02731 |  0      | 7.07    | 0       | 0.469   | 6.421   | 78.9    | 4.9671  | 2       | 242     | 17.8    | 396.90  | 9.14    | 21.6    |\n",
       "| 3       | 0.02729 |  0      | 7.07    | 0       | 0.469   | 7.185   | 61.1    | 4.9671  | 2       | 242     | 17.8    | 392.83  | 4.03    | 34.7    |\n",
       "| 4       | 0.03237 |  0      | 2.18    | 0       | 0.458   | 6.998   | 45.8    | 6.0622  | 3       | 222     | 18.7    | 394.63  | 2.94    | 33.4    |\n",
       "| 5       | 0.06905 |  0      | 2.18    | 0       | 0.458   | 7.147   | 54.2    | 6.0622  | 3       | 222     | 18.7    | 396.90  | 5.33    | 36.2    |\n",
       "| 6       | 0.02985 |  0      | 2.18    | 0       | 0.458   | 6.430   | 58.7    | 6.0622  | 3       | 222     | 18.7    | 394.12  | 5.21    | 28.7    |\n",
       "\n"
      ],
      "text/plain": [
       "  X crim    zn indus chas nox   rm    age  dis    rad tax ptratio black  lstat\n",
       "1 1 0.00632 18 2.31  0    0.538 6.575 65.2 4.0900 1   296 15.3    396.90 4.98 \n",
       "2 2 0.02731  0 7.07  0    0.469 6.421 78.9 4.9671 2   242 17.8    396.90 9.14 \n",
       "3 3 0.02729  0 7.07  0    0.469 7.185 61.1 4.9671 2   242 17.8    392.83 4.03 \n",
       "4 4 0.03237  0 2.18  0    0.458 6.998 45.8 6.0622 3   222 18.7    394.63 2.94 \n",
       "5 5 0.06905  0 2.18  0    0.458 7.147 54.2 6.0622 3   222 18.7    396.90 5.33 \n",
       "6 6 0.02985  0 2.18  0    0.458 6.430 58.7 6.0622 3   222 18.7    394.12 5.21 \n",
       "  medv\n",
       "1 24.0\n",
       "2 21.6\n",
       "3 34.7\n",
       "4 33.4\n",
       "5 36.2\n",
       "6 28.7"
      ]
     },
     "metadata": {},
     "output_type": "display_data"
    }
   ],
   "source": [
    "file = 'C:/Users/SIMGEK/Desktop/BOUN/ETM58D - Business Analytics/HW01/bostoncsv/Boston.csv'\n",
    "df = read.csv(file)\n",
    "head(df)\n",
    "df$X = NULL"
   ]
  },
  {
   "cell_type": "code",
   "execution_count": 192,
   "metadata": {},
   "outputs": [
    {
     "data": {
      "image/png": "[encoded data removed]",
      "text/plain": [
       "plot without title"
      ]
     },
     "metadata": {},
     "output_type": "display_data"
    }
   ],
   "source": [
    "plot(df)"
   ]
  },
  {
   "cell_type": "code",
   "execution_count": 193,
   "metadata": {},
   "outputs": [
    {
     "data": {
      "text/html": [
       "<table>\n",
       "<thead><tr><th></th><th scope=col>crim</th><th scope=col>zn</th><th scope=col>indus</th><th scope=col>chas</th><th scope=col>nox</th><th scope=col>rm</th><th scope=col>age</th><th scope=col>dis</th><th scope=col>rad</th><th scope=col>tax</th><th scope=col>ptratio</th><th scope=col>black</th><th scope=col>lstat</th><th scope=col>medv</th></tr></thead>\n",
       "<tbody>\n",
       "\t<tr><th scope=row>crim</th><td> 1.00000000 </td><td>-0.20046922 </td><td> 0.40658341 </td><td>-0.055891582</td><td> 0.42097171 </td><td>-0.21924670 </td><td> 0.35273425 </td><td>-0.37967009 </td><td> 0.625505145</td><td> 0.58276431 </td><td> 0.2899456  </td><td>-0.38506394 </td><td> 0.4556215  </td><td>-0.3883046  </td></tr>\n",
       "\t<tr><th scope=row>zn</th><td>-0.20046922 </td><td> 1.00000000 </td><td>-0.53382819 </td><td>-0.042696719</td><td>-0.51660371 </td><td> 0.31199059 </td><td>-0.56953734 </td><td> 0.66440822 </td><td>-0.311947826</td><td>-0.31456332 </td><td>-0.3916785  </td><td> 0.17552032 </td><td>-0.4129946  </td><td> 0.3604453  </td></tr>\n",
       "\t<tr><th scope=row>indus</th><td> 0.40658341 </td><td>-0.53382819 </td><td> 1.00000000 </td><td> 0.062938027</td><td> 0.76365145 </td><td>-0.39167585 </td><td> 0.64477851 </td><td>-0.70802699 </td><td> 0.595129275</td><td> 0.72076018 </td><td> 0.3832476  </td><td>-0.35697654 </td><td> 0.6037997  </td><td>-0.4837252  </td></tr>\n",
       "\t<tr><th scope=row>chas</th><td>-0.05589158 </td><td>-0.04269672 </td><td> 0.06293803 </td><td> 1.000000000</td><td> 0.09120281 </td><td> 0.09125123 </td><td> 0.08651777 </td><td>-0.09917578 </td><td>-0.007368241</td><td>-0.03558652 </td><td>-0.1215152  </td><td> 0.04878848 </td><td>-0.0539293  </td><td> 0.1752602  </td></tr>\n",
       "\t<tr><th scope=row>nox</th><td> 0.42097171 </td><td>-0.51660371 </td><td> 0.76365145 </td><td> 0.091202807</td><td> 1.00000000 </td><td>-0.30218819 </td><td> 0.73147010 </td><td>-0.76923011 </td><td> 0.611440563</td><td> 0.66802320 </td><td> 0.1889327  </td><td>-0.38005064 </td><td> 0.5908789  </td><td>-0.4273208  </td></tr>\n",
       "\t<tr><th scope=row>rm</th><td>-0.21924670 </td><td> 0.31199059 </td><td>-0.39167585 </td><td> 0.091251225</td><td>-0.30218819 </td><td> 1.00000000 </td><td>-0.24026493 </td><td> 0.20524621 </td><td>-0.209846668</td><td>-0.29204783 </td><td>-0.3555015  </td><td> 0.12806864 </td><td>-0.6138083  </td><td> 0.6953599  </td></tr>\n",
       "\t<tr><th scope=row>age</th><td> 0.35273425 </td><td>-0.56953734 </td><td> 0.64477851 </td><td> 0.086517774</td><td> 0.73147010 </td><td>-0.24026493 </td><td> 1.00000000 </td><td>-0.74788054 </td><td> 0.456022452</td><td> 0.50645559 </td><td> 0.2615150  </td><td>-0.27353398 </td><td> 0.6023385  </td><td>-0.3769546  </td></tr>\n",
       "\t<tr><th scope=row>dis</th><td>-0.37967009 </td><td> 0.66440822 </td><td>-0.70802699 </td><td>-0.099175780</td><td>-0.76923011 </td><td> 0.20524621 </td><td>-0.74788054 </td><td> 1.00000000 </td><td>-0.494587930</td><td>-0.53443158 </td><td>-0.2324705  </td><td> 0.29151167 </td><td>-0.4969958  </td><td> 0.2499287  </td></tr>\n",
       "\t<tr><th scope=row>rad</th><td> 0.62550515 </td><td>-0.31194783 </td><td> 0.59512927 </td><td>-0.007368241</td><td> 0.61144056 </td><td>-0.20984667 </td><td> 0.45602245 </td><td>-0.49458793 </td><td> 1.000000000</td><td> 0.91022819 </td><td> 0.4647412  </td><td>-0.44441282 </td><td> 0.4886763  </td><td>-0.3816262  </td></tr>\n",
       "\t<tr><th scope=row>tax</th><td> 0.58276431 </td><td>-0.31456332 </td><td> 0.72076018 </td><td>-0.035586518</td><td> 0.66802320 </td><td>-0.29204783 </td><td> 0.50645559 </td><td>-0.53443158 </td><td> 0.910228189</td><td> 1.00000000 </td><td> 0.4608530  </td><td>-0.44180801 </td><td> 0.5439934  </td><td>-0.4685359  </td></tr>\n",
       "\t<tr><th scope=row>ptratio</th><td> 0.28994558 </td><td>-0.39167855 </td><td> 0.38324756 </td><td>-0.121515174</td><td> 0.18893268 </td><td>-0.35550149 </td><td> 0.26151501 </td><td>-0.23247054 </td><td> 0.464741179</td><td> 0.46085304 </td><td> 1.0000000  </td><td>-0.17738330 </td><td> 0.3740443  </td><td>-0.5077867  </td></tr>\n",
       "\t<tr><th scope=row>black</th><td>-0.38506394 </td><td> 0.17552032 </td><td>-0.35697654 </td><td> 0.048788485</td><td>-0.38005064 </td><td> 0.12806864 </td><td>-0.27353398 </td><td> 0.29151167 </td><td>-0.444412816</td><td>-0.44180801 </td><td>-0.1773833  </td><td> 1.00000000 </td><td>-0.3660869  </td><td> 0.3334608  </td></tr>\n",
       "\t<tr><th scope=row>lstat</th><td> 0.45562148 </td><td>-0.41299457 </td><td> 0.60379972 </td><td>-0.053929298</td><td> 0.59087892 </td><td>-0.61380827 </td><td> 0.60233853 </td><td>-0.49699583 </td><td> 0.488676335</td><td> 0.54399341 </td><td> 0.3740443  </td><td>-0.36608690 </td><td> 1.0000000  </td><td>-0.7376627  </td></tr>\n",
       "\t<tr><th scope=row>medv</th><td>-0.38830461 </td><td> 0.36044534 </td><td>-0.48372516 </td><td> 0.175260177</td><td>-0.42732077 </td><td> 0.69535995 </td><td>-0.37695457 </td><td> 0.24992873 </td><td>-0.381626231</td><td>-0.46853593 </td><td>-0.5077867  </td><td> 0.33346082 </td><td>-0.7376627  </td><td> 1.0000000  </td></tr>\n",
       "</tbody>\n",
       "</table>\n"
      ],
      "text/latex": [
       "\\begin{tabular}{r|llllllllllllll}\n",
       "  & crim & zn & indus & chas & nox & rm & age & dis & rad & tax & ptratio & black & lstat & medv\\\\\n",
       "\\hline\n",
       "\tcrim &  1.00000000  & -0.20046922  &  0.40658341  & -0.055891582 &  0.42097171  & -0.21924670  &  0.35273425  & -0.37967009  &  0.625505145 &  0.58276431  &  0.2899456   & -0.38506394  &  0.4556215   & -0.3883046  \\\\\n",
       "\tzn & -0.20046922  &  1.00000000  & -0.53382819  & -0.042696719 & -0.51660371  &  0.31199059  & -0.56953734  &  0.66440822  & -0.311947826 & -0.31456332  & -0.3916785   &  0.17552032  & -0.4129946   &  0.3604453  \\\\\n",
       "\tindus &  0.40658341  & -0.53382819  &  1.00000000  &  0.062938027 &  0.76365145  & -0.39167585  &  0.64477851  & -0.70802699  &  0.595129275 &  0.72076018  &  0.3832476   & -0.35697654  &  0.6037997   & -0.4837252  \\\\\n",
       "\tchas & -0.05589158  & -0.04269672  &  0.06293803  &  1.000000000 &  0.09120281  &  0.09125123  &  0.08651777  & -0.09917578  & -0.007368241 & -0.03558652  & -0.1215152   &  0.04878848  & -0.0539293   &  0.1752602  \\\\\n",
       "\tnox &  0.42097171  & -0.51660371  &  0.76365145  &  0.091202807 &  1.00000000  & -0.30218819  &  0.73147010  & -0.76923011  &  0.611440563 &  0.66802320  &  0.1889327   & -0.38005064  &  0.5908789   & -0.4273208  \\\\\n",
       "\trm & -0.21924670  &  0.31199059  & -0.39167585  &  0.091251225 & -0.30218819  &  1.00000000  & -0.24026493  &  0.20524621  & -0.209846668 & -0.29204783  & -0.3555015   &  0.12806864  & -0.6138083   &  0.6953599  \\\\\n",
       "\tage &  0.35273425  & -0.56953734  &  0.64477851  &  0.086517774 &  0.73147010  & -0.24026493  &  1.00000000  & -0.74788054  &  0.456022452 &  0.50645559  &  0.2615150   & -0.27353398  &  0.6023385   & -0.3769546  \\\\\n",
       "\tdis & -0.37967009  &  0.66440822  & -0.70802699  & -0.099175780 & -0.76923011  &  0.20524621  & -0.74788054  &  1.00000000  & -0.494587930 & -0.53443158  & -0.2324705   &  0.29151167  & -0.4969958   &  0.2499287  \\\\\n",
       "\trad &  0.62550515  & -0.31194783  &  0.59512927  & -0.007368241 &  0.61144056  & -0.20984667  &  0.45602245  & -0.49458793  &  1.000000000 &  0.91022819  &  0.4647412   & -0.44441282  &  0.4886763   & -0.3816262  \\\\\n",
       "\ttax &  0.58276431  & -0.31456332  &  0.72076018  & -0.035586518 &  0.66802320  & -0.29204783  &  0.50645559  & -0.53443158  &  0.910228189 &  1.00000000  &  0.4608530   & -0.44180801  &  0.5439934   & -0.4685359  \\\\\n",
       "\tptratio &  0.28994558  & -0.39167855  &  0.38324756  & -0.121515174 &  0.18893268  & -0.35550149  &  0.26151501  & -0.23247054  &  0.464741179 &  0.46085304  &  1.0000000   & -0.17738330  &  0.3740443   & -0.5077867  \\\\\n",
       "\tblack & -0.38506394  &  0.17552032  & -0.35697654  &  0.048788485 & -0.38005064  &  0.12806864  & -0.27353398  &  0.29151167  & -0.444412816 & -0.44180801  & -0.1773833   &  1.00000000  & -0.3660869   &  0.3334608  \\\\\n",
       "\tlstat &  0.45562148  & -0.41299457  &  0.60379972  & -0.053929298 &  0.59087892  & -0.61380827  &  0.60233853  & -0.49699583  &  0.488676335 &  0.54399341  &  0.3740443   & -0.36608690  &  1.0000000   & -0.7376627  \\\\\n",
       "\tmedv & -0.38830461  &  0.36044534  & -0.48372516  &  0.175260177 & -0.42732077  &  0.69535995  & -0.37695457  &  0.24992873  & -0.381626231 & -0.46853593  & -0.5077867   &  0.33346082  & -0.7376627   &  1.0000000  \\\\\n",
       "\\end{tabular}\n"
      ],
      "text/markdown": [
       "\n",
       "| <!--/--> | crim | zn | indus | chas | nox | rm | age | dis | rad | tax | ptratio | black | lstat | medv |\n",
       "|---|---|---|---|---|---|---|---|---|---|---|---|---|---|---|\n",
       "| crim |  1.00000000  | -0.20046922  |  0.40658341  | -0.055891582 |  0.42097171  | -0.21924670  |  0.35273425  | -0.37967009  |  0.625505145 |  0.58276431  |  0.2899456   | -0.38506394  |  0.4556215   | -0.3883046   |\n",
       "| zn | -0.20046922  |  1.00000000  | -0.53382819  | -0.042696719 | -0.51660371  |  0.31199059  | -0.56953734  |  0.66440822  | -0.311947826 | -0.31456332  | -0.3916785   |  0.17552032  | -0.4129946   |  0.3604453   |\n",
       "| indus |  0.40658341  | -0.53382819  |  1.00000000  |  0.062938027 |  0.76365145  | -0.39167585  |  0.64477851  | -0.70802699  |  0.595129275 |  0.72076018  |  0.3832476   | -0.35697654  |  0.6037997   | -0.4837252   |\n",
       "| chas | -0.05589158  | -0.04269672  |  0.06293803  |  1.000000000 |  0.09120281  |  0.09125123  |  0.08651777  | -0.09917578  | -0.007368241 | -0.03558652  | -0.1215152   |  0.04878848  | -0.0539293   |  0.1752602   |\n",
       "| nox |  0.42097171  | -0.51660371  |  0.76365145  |  0.091202807 |  1.00000000  | -0.30218819  |  0.73147010  | -0.76923011  |  0.611440563 |  0.66802320  |  0.1889327   | -0.38005064  |  0.5908789   | -0.4273208   |\n",
       "| rm | -0.21924670  |  0.31199059  | -0.39167585  |  0.091251225 | -0.30218819  |  1.00000000  | -0.24026493  |  0.20524621  | -0.209846668 | -0.29204783  | -0.3555015   |  0.12806864  | -0.6138083   |  0.6953599   |\n",
       "| age |  0.35273425  | -0.56953734  |  0.64477851  |  0.086517774 |  0.73147010  | -0.24026493  |  1.00000000  | -0.74788054  |  0.456022452 |  0.50645559  |  0.2615150   | -0.27353398  |  0.6023385   | -0.3769546   |\n",
       "| dis | -0.37967009  |  0.66440822  | -0.70802699  | -0.099175780 | -0.76923011  |  0.20524621  | -0.74788054  |  1.00000000  | -0.494587930 | -0.53443158  | -0.2324705   |  0.29151167  | -0.4969958   |  0.2499287   |\n",
       "| rad |  0.62550515  | -0.31194783  |  0.59512927  | -0.007368241 |  0.61144056  | -0.20984667  |  0.45602245  | -0.49458793  |  1.000000000 |  0.91022819  |  0.4647412   | -0.44441282  |  0.4886763   | -0.3816262   |\n",
       "| tax |  0.58276431  | -0.31456332  |  0.72076018  | -0.035586518 |  0.66802320  | -0.29204783  |  0.50645559  | -0.53443158  |  0.910228189 |  1.00000000  |  0.4608530   | -0.44180801  |  0.5439934   | -0.4685359   |\n",
       "| ptratio |  0.28994558  | -0.39167855  |  0.38324756  | -0.121515174 |  0.18893268  | -0.35550149  |  0.26151501  | -0.23247054  |  0.464741179 |  0.46085304  |  1.0000000   | -0.17738330  |  0.3740443   | -0.5077867   |\n",
       "| black | -0.38506394  |  0.17552032  | -0.35697654  |  0.048788485 | -0.38005064  |  0.12806864  | -0.27353398  |  0.29151167  | -0.444412816 | -0.44180801  | -0.1773833   |  1.00000000  | -0.3660869   |  0.3334608   |\n",
       "| lstat |  0.45562148  | -0.41299457  |  0.60379972  | -0.053929298 |  0.59087892  | -0.61380827  |  0.60233853  | -0.49699583  |  0.488676335 |  0.54399341  |  0.3740443   | -0.36608690  |  1.0000000   | -0.7376627   |\n",
       "| medv | -0.38830461  |  0.36044534  | -0.48372516  |  0.175260177 | -0.42732077  |  0.69535995  | -0.37695457  |  0.24992873  | -0.381626231 | -0.46853593  | -0.5077867   |  0.33346082  | -0.7376627   |  1.0000000   |\n",
       "\n"
      ],
      "text/plain": [
       "        crim        zn          indus       chas         nox        \n",
       "crim     1.00000000 -0.20046922  0.40658341 -0.055891582  0.42097171\n",
       "zn      -0.20046922  1.00000000 -0.53382819 -0.042696719 -0.51660371\n",
       "indus    0.40658341 -0.53382819  1.00000000  0.062938027  0.76365145\n",
       "chas    -0.05589158 -0.04269672  0.06293803  1.000000000  0.09120281\n",
       "nox      0.42097171 -0.51660371  0.76365145  0.091202807  1.00000000\n",
       "rm      -0.21924670  0.31199059 -0.39167585  0.091251225 -0.30218819\n",
       "age      0.35273425 -0.56953734  0.64477851  0.086517774  0.73147010\n",
       "dis     -0.37967009  0.66440822 -0.70802699 -0.099175780 -0.76923011\n",
       "rad      0.62550515 -0.31194783  0.59512927 -0.007368241  0.61144056\n",
       "tax      0.58276431 -0.31456332  0.72076018 -0.035586518  0.66802320\n",
       "ptratio  0.28994558 -0.39167855  0.38324756 -0.121515174  0.18893268\n",
       "black   -0.38506394  0.17552032 -0.35697654  0.048788485 -0.38005064\n",
       "lstat    0.45562148 -0.41299457  0.60379972 -0.053929298  0.59087892\n",
       "medv    -0.38830461  0.36044534 -0.48372516  0.175260177 -0.42732077\n",
       "        rm          age         dis         rad          tax         ptratio   \n",
       "crim    -0.21924670  0.35273425 -0.37967009  0.625505145  0.58276431  0.2899456\n",
       "zn       0.31199059 -0.56953734  0.66440822 -0.311947826 -0.31456332 -0.3916785\n",
       "indus   -0.39167585  0.64477851 -0.70802699  0.595129275  0.72076018  0.3832476\n",
       "chas     0.09125123  0.08651777 -0.09917578 -0.007368241 -0.03558652 -0.1215152\n",
       "nox     -0.30218819  0.73147010 -0.76923011  0.611440563  0.66802320  0.1889327\n",
       "rm       1.00000000 -0.24026493  0.20524621 -0.209846668 -0.29204783 -0.3555015\n",
       "age     -0.24026493  1.00000000 -0.74788054  0.456022452  0.50645559  0.2615150\n",
       "dis      0.20524621 -0.74788054  1.00000000 -0.494587930 -0.53443158 -0.2324705\n",
       "rad     -0.20984667  0.45602245 -0.49458793  1.000000000  0.91022819  0.4647412\n",
       "tax     -0.29204783  0.50645559 -0.53443158  0.910228189  1.00000000  0.4608530\n",
       "ptratio -0.35550149  0.26151501 -0.23247054  0.464741179  0.46085304  1.0000000\n",
       "black    0.12806864 -0.27353398  0.29151167 -0.444412816 -0.44180801 -0.1773833\n",
       "lstat   -0.61380827  0.60233853 -0.49699583  0.488676335  0.54399341  0.3740443\n",
       "medv     0.69535995 -0.37695457  0.24992873 -0.381626231 -0.46853593 -0.5077867\n",
       "        black       lstat      medv      \n",
       "crim    -0.38506394  0.4556215 -0.3883046\n",
       "zn       0.17552032 -0.4129946  0.3604453\n",
       "indus   -0.35697654  0.6037997 -0.4837252\n",
       "chas     0.04878848 -0.0539293  0.1752602\n",
       "nox     -0.38005064  0.5908789 -0.4273208\n",
       "rm       0.12806864 -0.6138083  0.6953599\n",
       "age     -0.27353398  0.6023385 -0.3769546\n",
       "dis      0.29151167 -0.4969958  0.2499287\n",
       "rad     -0.44441282  0.4886763 -0.3816262\n",
       "tax     -0.44180801  0.5439934 -0.4685359\n",
       "ptratio -0.17738330  0.3740443 -0.5077867\n",
       "black    1.00000000 -0.3660869  0.3334608\n",
       "lstat   -0.36608690  1.0000000 -0.7376627\n",
       "medv     0.33346082 -0.7376627  1.0000000"
      ]
     },
     "metadata": {},
     "output_type": "display_data"
    }
   ],
   "source": [
    "cor(df)"
   ]
  },
  {
   "cell_type": "markdown",
   "metadata": {},
   "source": [
    "##### When I visually checked the scatter plot, I saw that there are correlations among variables like RM and LSAT or RM and MEDV or LSTAT and MEDV.\n",
    "##### From correlation matrix, I can say that this data contaions also other correlated variables like RM-LSTAT or RM-MEDV or AGE-INDUS or AGE-DIS etc."
   ]
  },
  {
   "cell_type": "code",
   "execution_count": 195,
   "metadata": {},
   "outputs": [
    {
     "data": {
      "text/plain": [
       "Importance of components:\n",
       "                          Comp.1    Comp.2     Comp.3     Comp.4     Comp.5\n",
       "Standard deviation     2.5585132 1.2843410 1.16142409 0.94156246 0.92244211\n",
       "Proportion of Variance 0.4675707 0.1178237 0.09635042 0.06332428 0.06077853\n",
       "Cumulative Proportion  0.4675707 0.5853944 0.68174481 0.74506909 0.80584762\n",
       "                           Comp.6     Comp.7     Comp.8     Comp.9    Comp.10\n",
       "Standard deviation     0.81241047 0.73171771 0.63488312 0.52655824 0.50225237\n",
       "Proportion of Variance 0.04714363 0.03824363 0.02879118 0.01980454 0.01801839\n",
       "Cumulative Proportion  0.85299125 0.89123488 0.92002606 0.93983060 0.95784899\n",
       "                         Comp.11    Comp.12     Comp.13     Comp.14\n",
       "Standard deviation     0.4612919 0.42777038 0.366073349 0.245614857\n",
       "Proportion of Variance 0.0151993 0.01307054 0.009572121 0.004309047\n",
       "Cumulative Proportion  0.9730483 0.98611883 0.995690953 1.000000000\n",
       "\n",
       "Loadings:\n",
       "        Comp.1 Comp.2 Comp.3 Comp.4 Comp.5 Comp.6 Comp.7 Comp.8 Comp.9 Comp.10\n",
       "crim     0.242         0.395  0.100         0.225  0.777  0.157  0.254        \n",
       "zn      -0.245  0.148  0.395  0.343  0.114  0.336 -0.274 -0.380  0.383 -0.246 \n",
       "indus    0.332 -0.127                             -0.340  0.172  0.627  0.255 \n",
       "chas           -0.411 -0.125  0.700 -0.535 -0.163                             \n",
       "nox      0.325 -0.254                0.195  0.149 -0.198                0.212 \n",
       "rm      -0.203 -0.434  0.353 -0.293        -0.131        -0.438         0.526 \n",
       "age      0.297 -0.260 -0.201         0.150         0.119 -0.588        -0.246 \n",
       "dis     -0.298  0.359  0.157  0.185 -0.106        -0.104 -0.128 -0.176  0.299 \n",
       "rad      0.303         0.419        -0.230  0.135 -0.137        -0.463 -0.116 \n",
       "tax      0.324         0.343        -0.163  0.188 -0.314        -0.179        \n",
       "ptratio  0.208  0.315        -0.342 -0.616 -0.279        -0.283  0.275 -0.160 \n",
       "black   -0.197        -0.361 -0.202 -0.367  0.786                       0.146 \n",
       "lstat    0.311  0.201 -0.161  0.243  0.178               -0.357 -0.172        \n",
       "medv    -0.267 -0.445  0.163 -0.180                       0.152        -0.576 \n",
       "        Comp.11 Comp.12 Comp.13 Comp.14\n",
       "crim                                   \n",
       "zn       0.128  -0.221  -0.132         \n",
       "indus   -0.274   0.348          -0.235 \n",
       "chas                                   \n",
       "nox      0.437  -0.449   0.525         \n",
       "rm      -0.224  -0.126                 \n",
       "age      0.330   0.486                 \n",
       "dis      0.115   0.494   0.552         \n",
       "rad                             -0.635 \n",
       "tax              0.170  -0.243   0.699 \n",
       "ptratio         -0.232   0.188         \n",
       "black                                  \n",
       "lstat   -0.683  -0.182   0.249         \n",
       "medv    -0.242           0.470   0.134 "
      ]
     },
     "metadata": {},
     "output_type": "display_data"
    }
   ],
   "source": [
    "## Apply PCA on correlation matrix in order to eliminate the scaling issue.\n",
    "\n",
    "pca = princomp(df, cor = T)\n",
    "summary(pca, loadings = T)"
   ]
  },
  {
   "cell_type": "markdown",
   "metadata": {},
   "source": [
    "#####  6 components explain the 85% of the variability in the data. Rather than using all 14 variables, 6 components from PCA can be used."
   ]
  },
  {
   "cell_type": "markdown",
   "metadata": {},
   "source": [
    "#### Question 3"
   ]
  },
  {
   "cell_type": "code",
   "execution_count": 206,
   "metadata": {},
   "outputs": [
    {
     "data": {
      "text/html": [
       "<table>\n",
       "<thead><tr><th scope=col>V1</th><th scope=col>V2</th><th scope=col>V3</th><th scope=col>V4</th><th scope=col>V5</th><th scope=col>V6</th><th scope=col>V7</th><th scope=col>V8</th><th scope=col>V9</th><th scope=col>V10</th><th scope=col>...</th><th scope=col>V91</th><th scope=col>V92</th><th scope=col>V93</th><th scope=col>V94</th><th scope=col>V95</th><th scope=col>V96</th><th scope=col>V97</th><th scope=col>V98</th><th scope=col>V99</th><th scope=col>V100</th></tr></thead>\n",
       "<tbody>\n",
       "\t<tr><td>4  </td><td>4  </td><td>5  </td><td>4  </td><td>5  </td><td>3  </td><td>5  </td><td>5  </td><td>5  </td><td>4  </td><td>...</td><td>4  </td><td>5  </td><td>3  </td><td>3  </td><td>3  </td><td>0  </td><td>5  </td><td>2  </td><td>5  </td><td>5  </td></tr>\n",
       "\t<tr><td>4  </td><td>4  </td><td>5  </td><td>4  </td><td>5  </td><td>4  </td><td>5  </td><td>5  </td><td>2  </td><td>5  </td><td>...</td><td>4  </td><td>0  </td><td>3  </td><td>0  </td><td>0  </td><td>3  </td><td>3  </td><td>0  </td><td>1  </td><td>0  </td></tr>\n",
       "\t<tr><td>3  </td><td>4  </td><td>4  </td><td>4  </td><td>5  </td><td>5  </td><td>4  </td><td>4  </td><td>3  </td><td>3  </td><td>...</td><td>5  </td><td>0  </td><td>2  </td><td>2  </td><td>3  </td><td>4  </td><td>4  </td><td>5  </td><td>0  </td><td>4  </td></tr>\n",
       "\t<tr><td>3  </td><td>4  </td><td>4  </td><td>3  </td><td>5  </td><td>4  </td><td>4  </td><td>4  </td><td>4  </td><td>4  </td><td>...</td><td>3  </td><td>4  </td><td>3  </td><td>0  </td><td>0  </td><td>4  </td><td>1  </td><td>3  </td><td>0  </td><td>4  </td></tr>\n",
       "\t<tr><td>5  </td><td>5  </td><td>5  </td><td>4  </td><td>5  </td><td>4  </td><td>5  </td><td>5  </td><td>4  </td><td>5  </td><td>...</td><td>4  </td><td>4  </td><td>4  </td><td>3  </td><td>3  </td><td>5  </td><td>3  </td><td>3  </td><td>3  </td><td>0  </td></tr>\n",
       "\t<tr><td>5  </td><td>4  </td><td>5  </td><td>2  </td><td>4  </td><td>5  </td><td>5  </td><td>4  </td><td>4  </td><td>4  </td><td>...</td><td>0  </td><td>5  </td><td>2  </td><td>4  </td><td>4  </td><td>0  </td><td>0  </td><td>4  </td><td>3  </td><td>4  </td></tr>\n",
       "</tbody>\n",
       "</table>\n"
      ],
      "text/latex": [
       "\\begin{tabular}{r|llllllllllllllllllllllllllllllllllllllllllllllllllllllllllllllllllllllllllllllllllllllllllllllllllll}\n",
       " V1 & V2 & V3 & V4 & V5 & V6 & V7 & V8 & V9 & V10 & ... & V91 & V92 & V93 & V94 & V95 & V96 & V97 & V98 & V99 & V100\\\\\n",
       "\\hline\n",
       "\t 4   & 4   & 5   & 4   & 5   & 3   & 5   & 5   & 5   & 4   & ... & 4   & 5   & 3   & 3   & 3   & 0   & 5   & 2   & 5   & 5  \\\\\n",
       "\t 4   & 4   & 5   & 4   & 5   & 4   & 5   & 5   & 2   & 5   & ... & 4   & 0   & 3   & 0   & 0   & 3   & 3   & 0   & 1   & 0  \\\\\n",
       "\t 3   & 4   & 4   & 4   & 5   & 5   & 4   & 4   & 3   & 3   & ... & 5   & 0   & 2   & 2   & 3   & 4   & 4   & 5   & 0   & 4  \\\\\n",
       "\t 3   & 4   & 4   & 3   & 5   & 4   & 4   & 4   & 4   & 4   & ... & 3   & 4   & 3   & 0   & 0   & 4   & 1   & 3   & 0   & 4  \\\\\n",
       "\t 5   & 5   & 5   & 4   & 5   & 4   & 5   & 5   & 4   & 5   & ... & 4   & 4   & 4   & 3   & 3   & 5   & 3   & 3   & 3   & 0  \\\\\n",
       "\t 5   & 4   & 5   & 2   & 4   & 5   & 5   & 4   & 4   & 4   & ... & 0   & 5   & 2   & 4   & 4   & 0   & 0   & 4   & 3   & 4  \\\\\n",
       "\\end{tabular}\n"
      ],
      "text/markdown": [
       "\n",
       "| V1 | V2 | V3 | V4 | V5 | V6 | V7 | V8 | V9 | V10 | ... | V91 | V92 | V93 | V94 | V95 | V96 | V97 | V98 | V99 | V100 |\n",
       "|---|---|---|---|---|---|---|---|---|---|---|---|---|---|---|---|---|---|---|---|---|\n",
       "| 4   | 4   | 5   | 4   | 5   | 3   | 5   | 5   | 5   | 4   | ... | 4   | 5   | 3   | 3   | 3   | 0   | 5   | 2   | 5   | 5   |\n",
       "| 4   | 4   | 5   | 4   | 5   | 4   | 5   | 5   | 2   | 5   | ... | 4   | 0   | 3   | 0   | 0   | 3   | 3   | 0   | 1   | 0   |\n",
       "| 3   | 4   | 4   | 4   | 5   | 5   | 4   | 4   | 3   | 3   | ... | 5   | 0   | 2   | 2   | 3   | 4   | 4   | 5   | 0   | 4   |\n",
       "| 3   | 4   | 4   | 3   | 5   | 4   | 4   | 4   | 4   | 4   | ... | 3   | 4   | 3   | 0   | 0   | 4   | 1   | 3   | 0   | 4   |\n",
       "| 5   | 5   | 5   | 4   | 5   | 4   | 5   | 5   | 4   | 5   | ... | 4   | 4   | 4   | 3   | 3   | 5   | 3   | 3   | 3   | 0   |\n",
       "| 5   | 4   | 5   | 2   | 4   | 5   | 5   | 4   | 4   | 4   | ... | 0   | 5   | 2   | 4   | 4   | 0   | 0   | 4   | 3   | 4   |\n",
       "\n"
      ],
      "text/plain": [
       "  V1 V2 V3 V4 V5 V6 V7 V8 V9 V10 ... V91 V92 V93 V94 V95 V96 V97 V98 V99 V100\n",
       "1 4  4  5  4  5  3  5  5  5  4   ... 4   5   3   3   3   0   5   2   5   5   \n",
       "2 4  4  5  4  5  4  5  5  2  5   ... 4   0   3   0   0   3   3   0   1   0   \n",
       "3 3  4  4  4  5  5  4  4  3  3   ... 5   0   2   2   3   4   4   5   0   4   \n",
       "4 3  4  4  3  5  4  4  4  4  4   ... 3   4   3   0   0   4   1   3   0   4   \n",
       "5 5  5  5  4  5  4  5  5  4  5   ... 4   4   4   3   3   5   3   3   3   0   \n",
       "6 5  4  5  2  4  5  5  4  4  4   ... 0   5   2   4   4   0   0   4   3   4   "
      ]
     },
     "metadata": {},
     "output_type": "display_data"
    }
   ],
   "source": [
    "## Read data\n",
    "\n",
    "file = 'C:/Users/SIMGEK/Desktop/BOUN/ETM58D - Business Analytics/HW01/ETM58D_Spring20_HW1_q3_data/ETM58D_Spring20_HW1_q3_Netflix_data.txt'\n",
    "df_rating = read.table(file)\n",
    "head(df_rating)"
   ]
  },
  {
   "cell_type": "code",
   "execution_count": 209,
   "metadata": {},
   "outputs": [
    {
     "data": {
      "text/html": [
       "<table>\n",
       "<thead><tr><th scope=col>V1</th><th scope=col>V2</th><th scope=col>V3</th><th scope=col>V4</th><th scope=col>V5</th><th scope=col>V6</th><th scope=col>V7</th><th scope=col>V8</th><th scope=col>V9</th><th scope=col>V10</th><th scope=col>...</th><th scope=col>V91</th><th scope=col>V92</th><th scope=col>V93</th><th scope=col>V94</th><th scope=col>V95</th><th scope=col>V96</th><th scope=col>V97</th><th scope=col>V98</th><th scope=col>V99</th><th scope=col>V100</th></tr></thead>\n",
       "<tbody>\n",
       "\t<tr><td>4  </td><td>4  </td><td>5  </td><td>4  </td><td>5  </td><td>3  </td><td>5  </td><td>5  </td><td>5  </td><td>4  </td><td>...</td><td> 4 </td><td> 5 </td><td>3  </td><td> 3 </td><td> 3 </td><td>NA </td><td> 5 </td><td> 2 </td><td> 5 </td><td> 5 </td></tr>\n",
       "\t<tr><td>4  </td><td>4  </td><td>5  </td><td>4  </td><td>5  </td><td>4  </td><td>5  </td><td>5  </td><td>2  </td><td>5  </td><td>...</td><td> 4 </td><td>NA </td><td>3  </td><td>NA </td><td>NA </td><td> 3 </td><td> 3 </td><td>NA </td><td> 1 </td><td>NA </td></tr>\n",
       "\t<tr><td>3  </td><td>4  </td><td>4  </td><td>4  </td><td>5  </td><td>5  </td><td>4  </td><td>4  </td><td>3  </td><td>3  </td><td>...</td><td> 5 </td><td>NA </td><td>2  </td><td> 2 </td><td> 3 </td><td> 4 </td><td> 4 </td><td> 5 </td><td>NA </td><td> 4 </td></tr>\n",
       "\t<tr><td>3  </td><td>4  </td><td>4  </td><td>3  </td><td>5  </td><td>4  </td><td>4  </td><td>4  </td><td>4  </td><td>4  </td><td>...</td><td> 3 </td><td> 4 </td><td>3  </td><td>NA </td><td>NA </td><td> 4 </td><td> 1 </td><td> 3 </td><td>NA </td><td> 4 </td></tr>\n",
       "\t<tr><td>5  </td><td>5  </td><td>5  </td><td>4  </td><td>5  </td><td>4  </td><td>5  </td><td>5  </td><td>4  </td><td>5  </td><td>...</td><td> 4 </td><td> 4 </td><td>4  </td><td> 3 </td><td> 3 </td><td> 5 </td><td> 3 </td><td> 3 </td><td> 3 </td><td>NA </td></tr>\n",
       "\t<tr><td>5  </td><td>4  </td><td>5  </td><td>2  </td><td>4  </td><td>5  </td><td>5  </td><td>4  </td><td>4  </td><td>4  </td><td>...</td><td>NA </td><td> 5 </td><td>2  </td><td> 4 </td><td> 4 </td><td>NA </td><td>NA </td><td> 4 </td><td> 3 </td><td> 4 </td></tr>\n",
       "</tbody>\n",
       "</table>\n"
      ],
      "text/latex": [
       "\\begin{tabular}{r|llllllllllllllllllllllllllllllllllllllllllllllllllllllllllllllllllllllllllllllllllllllllllllllllllll}\n",
       " V1 & V2 & V3 & V4 & V5 & V6 & V7 & V8 & V9 & V10 & ... & V91 & V92 & V93 & V94 & V95 & V96 & V97 & V98 & V99 & V100\\\\\n",
       "\\hline\n",
       "\t 4   & 4   & 5   & 4   & 5   & 3   & 5   & 5   & 5   & 4   & ... &  4  &  5  & 3   &  3  &  3  & NA  &  5  &  2  &  5  &  5 \\\\\n",
       "\t 4   & 4   & 5   & 4   & 5   & 4   & 5   & 5   & 2   & 5   & ... &  4  & NA  & 3   & NA  & NA  &  3  &  3  & NA  &  1  & NA \\\\\n",
       "\t 3   & 4   & 4   & 4   & 5   & 5   & 4   & 4   & 3   & 3   & ... &  5  & NA  & 2   &  2  &  3  &  4  &  4  &  5  & NA  &  4 \\\\\n",
       "\t 3   & 4   & 4   & 3   & 5   & 4   & 4   & 4   & 4   & 4   & ... &  3  &  4  & 3   & NA  & NA  &  4  &  1  &  3  & NA  &  4 \\\\\n",
       "\t 5   & 5   & 5   & 4   & 5   & 4   & 5   & 5   & 4   & 5   & ... &  4  &  4  & 4   &  3  &  3  &  5  &  3  &  3  &  3  & NA \\\\\n",
       "\t 5   & 4   & 5   & 2   & 4   & 5   & 5   & 4   & 4   & 4   & ... & NA  &  5  & 2   &  4  &  4  & NA  & NA  &  4  &  3  &  4 \\\\\n",
       "\\end{tabular}\n"
      ],
      "text/markdown": [
       "\n",
       "| V1 | V2 | V3 | V4 | V5 | V6 | V7 | V8 | V9 | V10 | ... | V91 | V92 | V93 | V94 | V95 | V96 | V97 | V98 | V99 | V100 |\n",
       "|---|---|---|---|---|---|---|---|---|---|---|---|---|---|---|---|---|---|---|---|---|\n",
       "| 4   | 4   | 5   | 4   | 5   | 3   | 5   | 5   | 5   | 4   | ... |  4  |  5  | 3   |  3  |  3  | NA  |  5  |  2  |  5  |  5  |\n",
       "| 4   | 4   | 5   | 4   | 5   | 4   | 5   | 5   | 2   | 5   | ... |  4  | NA  | 3   | NA  | NA  |  3  |  3  | NA  |  1  | NA  |\n",
       "| 3   | 4   | 4   | 4   | 5   | 5   | 4   | 4   | 3   | 3   | ... |  5  | NA  | 2   |  2  |  3  |  4  |  4  |  5  | NA  |  4  |\n",
       "| 3   | 4   | 4   | 3   | 5   | 4   | 4   | 4   | 4   | 4   | ... |  3  |  4  | 3   | NA  | NA  |  4  |  1  |  3  | NA  |  4  |\n",
       "| 5   | 5   | 5   | 4   | 5   | 4   | 5   | 5   | 4   | 5   | ... |  4  |  4  | 4   |  3  |  3  |  5  |  3  |  3  |  3  | NA  |\n",
       "| 5   | 4   | 5   | 2   | 4   | 5   | 5   | 4   | 4   | 4   | ... | NA  |  5  | 2   |  4  |  4  | NA  | NA  |  4  |  3  |  4  |\n",
       "\n"
      ],
      "text/plain": [
       "  V1 V2 V3 V4 V5 V6 V7 V8 V9 V10 ... V91 V92 V93 V94 V95 V96 V97 V98 V99 V100\n",
       "1 4  4  5  4  5  3  5  5  5  4   ...  4   5  3    3   3  NA   5   2   5   5  \n",
       "2 4  4  5  4  5  4  5  5  2  5   ...  4  NA  3   NA  NA   3   3  NA   1  NA  \n",
       "3 3  4  4  4  5  5  4  4  3  3   ...  5  NA  2    2   3   4   4   5  NA   4  \n",
       "4 3  4  4  3  5  4  4  4  4  4   ...  3   4  3   NA  NA   4   1   3  NA   4  \n",
       "5 5  5  5  4  5  4  5  5  4  5   ...  4   4  4    3   3   5   3   3   3  NA  \n",
       "6 5  4  5  2  4  5  5  4  4  4   ... NA   5  2    4   4  NA  NA   4   3   4  "
      ]
     },
     "metadata": {},
     "output_type": "display_data"
    }
   ],
   "source": [
    "## 0 means that movie is not rated by user. Missing ratings will impute with column median values.\n",
    "\n",
    "df_rating[df_rating == 0] = NA\n",
    "head(df_rating)"
   ]
  },
  {
   "cell_type": "code",
   "execution_count": 216,
   "metadata": {},
   "outputs": [
    {
     "data": {
      "text/html": [
       "<table>\n",
       "<thead><tr><th scope=col>V1</th><th scope=col>V2</th><th scope=col>V3</th><th scope=col>V4</th><th scope=col>V5</th><th scope=col>V6</th><th scope=col>V7</th><th scope=col>V8</th><th scope=col>V9</th><th scope=col>V10</th><th scope=col>...</th><th scope=col>V91</th><th scope=col>V92</th><th scope=col>V93</th><th scope=col>V94</th><th scope=col>V95</th><th scope=col>V96</th><th scope=col>V97</th><th scope=col>V98</th><th scope=col>V99</th><th scope=col>V100</th></tr></thead>\n",
       "<tbody>\n",
       "\t<tr><td>4  </td><td>4  </td><td>5  </td><td>4  </td><td>5  </td><td>3  </td><td>5  </td><td>5  </td><td>5  </td><td>4  </td><td>...</td><td>4  </td><td>5  </td><td>3  </td><td>3  </td><td>3  </td><td>4  </td><td>5  </td><td>2  </td><td>5  </td><td>5  </td></tr>\n",
       "\t<tr><td>4  </td><td>4  </td><td>5  </td><td>4  </td><td>5  </td><td>4  </td><td>5  </td><td>5  </td><td>2  </td><td>5  </td><td>...</td><td>4  </td><td>5  </td><td>3  </td><td>3  </td><td>4  </td><td>3  </td><td>3  </td><td>4  </td><td>1  </td><td>5  </td></tr>\n",
       "\t<tr><td>3  </td><td>4  </td><td>4  </td><td>4  </td><td>5  </td><td>5  </td><td>4  </td><td>4  </td><td>3  </td><td>3  </td><td>...</td><td>5  </td><td>5  </td><td>2  </td><td>2  </td><td>3  </td><td>4  </td><td>4  </td><td>5  </td><td>3  </td><td>4  </td></tr>\n",
       "\t<tr><td>3  </td><td>4  </td><td>4  </td><td>3  </td><td>5  </td><td>4  </td><td>4  </td><td>4  </td><td>4  </td><td>4  </td><td>...</td><td>3  </td><td>4  </td><td>3  </td><td>3  </td><td>4  </td><td>4  </td><td>1  </td><td>3  </td><td>3  </td><td>4  </td></tr>\n",
       "\t<tr><td>5  </td><td>5  </td><td>5  </td><td>4  </td><td>5  </td><td>4  </td><td>5  </td><td>5  </td><td>4  </td><td>5  </td><td>...</td><td>4  </td><td>4  </td><td>4  </td><td>3  </td><td>3  </td><td>5  </td><td>3  </td><td>3  </td><td>3  </td><td>5  </td></tr>\n",
       "\t<tr><td>5  </td><td>4  </td><td>5  </td><td>2  </td><td>4  </td><td>5  </td><td>5  </td><td>4  </td><td>4  </td><td>4  </td><td>...</td><td>4  </td><td>5  </td><td>2  </td><td>4  </td><td>4  </td><td>4  </td><td>3  </td><td>4  </td><td>3  </td><td>4  </td></tr>\n",
       "</tbody>\n",
       "</table>\n"
      ],
      "text/latex": [
       "\\begin{tabular}{r|llllllllllllllllllllllllllllllllllllllllllllllllllllllllllllllllllllllllllllllllllllllllllllllllllll}\n",
       " V1 & V2 & V3 & V4 & V5 & V6 & V7 & V8 & V9 & V10 & ... & V91 & V92 & V93 & V94 & V95 & V96 & V97 & V98 & V99 & V100\\\\\n",
       "\\hline\n",
       "\t 4   & 4   & 5   & 4   & 5   & 3   & 5   & 5   & 5   & 4   & ... & 4   & 5   & 3   & 3   & 3   & 4   & 5   & 2   & 5   & 5  \\\\\n",
       "\t 4   & 4   & 5   & 4   & 5   & 4   & 5   & 5   & 2   & 5   & ... & 4   & 5   & 3   & 3   & 4   & 3   & 3   & 4   & 1   & 5  \\\\\n",
       "\t 3   & 4   & 4   & 4   & 5   & 5   & 4   & 4   & 3   & 3   & ... & 5   & 5   & 2   & 2   & 3   & 4   & 4   & 5   & 3   & 4  \\\\\n",
       "\t 3   & 4   & 4   & 3   & 5   & 4   & 4   & 4   & 4   & 4   & ... & 3   & 4   & 3   & 3   & 4   & 4   & 1   & 3   & 3   & 4  \\\\\n",
       "\t 5   & 5   & 5   & 4   & 5   & 4   & 5   & 5   & 4   & 5   & ... & 4   & 4   & 4   & 3   & 3   & 5   & 3   & 3   & 3   & 5  \\\\\n",
       "\t 5   & 4   & 5   & 2   & 4   & 5   & 5   & 4   & 4   & 4   & ... & 4   & 5   & 2   & 4   & 4   & 4   & 3   & 4   & 3   & 4  \\\\\n",
       "\\end{tabular}\n"
      ],
      "text/markdown": [
       "\n",
       "| V1 | V2 | V3 | V4 | V5 | V6 | V7 | V8 | V9 | V10 | ... | V91 | V92 | V93 | V94 | V95 | V96 | V97 | V98 | V99 | V100 |\n",
       "|---|---|---|---|---|---|---|---|---|---|---|---|---|---|---|---|---|---|---|---|---|\n",
       "| 4   | 4   | 5   | 4   | 5   | 3   | 5   | 5   | 5   | 4   | ... | 4   | 5   | 3   | 3   | 3   | 4   | 5   | 2   | 5   | 5   |\n",
       "| 4   | 4   | 5   | 4   | 5   | 4   | 5   | 5   | 2   | 5   | ... | 4   | 5   | 3   | 3   | 4   | 3   | 3   | 4   | 1   | 5   |\n",
       "| 3   | 4   | 4   | 4   | 5   | 5   | 4   | 4   | 3   | 3   | ... | 5   | 5   | 2   | 2   | 3   | 4   | 4   | 5   | 3   | 4   |\n",
       "| 3   | 4   | 4   | 3   | 5   | 4   | 4   | 4   | 4   | 4   | ... | 3   | 4   | 3   | 3   | 4   | 4   | 1   | 3   | 3   | 4   |\n",
       "| 5   | 5   | 5   | 4   | 5   | 4   | 5   | 5   | 4   | 5   | ... | 4   | 4   | 4   | 3   | 3   | 5   | 3   | 3   | 3   | 5   |\n",
       "| 5   | 4   | 5   | 2   | 4   | 5   | 5   | 4   | 4   | 4   | ... | 4   | 5   | 2   | 4   | 4   | 4   | 3   | 4   | 3   | 4   |\n",
       "\n"
      ],
      "text/plain": [
       "  V1 V2 V3 V4 V5 V6 V7 V8 V9 V10 ... V91 V92 V93 V94 V95 V96 V97 V98 V99 V100\n",
       "1 4  4  5  4  5  3  5  5  5  4   ... 4   5   3   3   3   4   5   2   5   5   \n",
       "2 4  4  5  4  5  4  5  5  2  5   ... 4   5   3   3   4   3   3   4   1   5   \n",
       "3 3  4  4  4  5  5  4  4  3  3   ... 5   5   2   2   3   4   4   5   3   4   \n",
       "4 3  4  4  3  5  4  4  4  4  4   ... 3   4   3   3   4   4   1   3   3   4   \n",
       "5 5  5  5  4  5  4  5  5  4  5   ... 4   4   4   3   3   5   3   3   3   5   \n",
       "6 5  4  5  2  4  5  5  4  4  4   ... 4   5   2   4   4   4   3   4   3   4   "
      ]
     },
     "metadata": {},
     "output_type": "display_data"
    }
   ],
   "source": [
    "for(i in 1:ncol(df_rating)){\n",
    "  df_rating[is.na(df_rating[,i]), i] = median(df_rating[,i], na.rm = TRUE)\n",
    "}\n",
    "\n",
    "head(df_rating)"
   ]
  },
  {
   "cell_type": "code",
   "execution_count": 252,
   "metadata": {},
   "outputs": [
    {
     "data": {
      "text/html": [
       "<table>\n",
       "<thead><tr><th></th><th scope=col>V1</th><th scope=col>V2</th><th scope=col>V3</th><th scope=col>V4</th><th scope=col>V5</th><th scope=col>V6</th><th scope=col>V7</th><th scope=col>V8</th><th scope=col>V9</th><th scope=col>V10</th><th scope=col>...</th><th scope=col>V91</th><th scope=col>V92</th><th scope=col>V93</th><th scope=col>V94</th><th scope=col>V95</th><th scope=col>V96</th><th scope=col>V97</th><th scope=col>V98</th><th scope=col>V99</th><th scope=col>V100</th></tr></thead>\n",
       "<tbody>\n",
       "\t<tr><th scope=row>1017</th><td>4  </td><td>5  </td><td>5  </td><td>5  </td><td>5  </td><td>5  </td><td>5  </td><td>4  </td><td>4  </td><td>4  </td><td>...</td><td>4  </td><td>5  </td><td>3  </td><td>3  </td><td>5  </td><td>4  </td><td>3  </td><td>4  </td><td>3  </td><td>5  </td></tr>\n",
       "\t<tr><th scope=row>8004</th><td>3  </td><td>3  </td><td>5  </td><td>4  </td><td>5  </td><td>5  </td><td>3  </td><td>3  </td><td>4  </td><td>4  </td><td>...</td><td>4  </td><td>5  </td><td>3  </td><td>2  </td><td>4  </td><td>5  </td><td>4  </td><td>4  </td><td>3  </td><td>4  </td></tr>\n",
       "\t<tr><th scope=row>4775</th><td>2  </td><td>3  </td><td>3  </td><td>2  </td><td>4  </td><td>5  </td><td>4  </td><td>3  </td><td>3  </td><td>2  </td><td>...</td><td>3  </td><td>3  </td><td>3  </td><td>3  </td><td>4  </td><td>3  </td><td>3  </td><td>3  </td><td>3  </td><td>5  </td></tr>\n",
       "\t<tr><th scope=row>9725</th><td>2  </td><td>4  </td><td>4  </td><td>4  </td><td>4  </td><td>4  </td><td>3  </td><td>3  </td><td>4  </td><td>4  </td><td>...</td><td>4  </td><td>3  </td><td>4  </td><td>4  </td><td>5  </td><td>5  </td><td>3  </td><td>4  </td><td>3  </td><td>5  </td></tr>\n",
       "\t<tr><th scope=row>8462</th><td>4  </td><td>4  </td><td>5  </td><td>4  </td><td>5  </td><td>5  </td><td>4  </td><td>3  </td><td>5  </td><td>3  </td><td>...</td><td>4  </td><td>5  </td><td>3  </td><td>3  </td><td>3  </td><td>4  </td><td>2  </td><td>4  </td><td>3  </td><td>5  </td></tr>\n",
       "\t<tr><th scope=row>4050</th><td>5  </td><td>5  </td><td>4  </td><td>4  </td><td>5  </td><td>3  </td><td>4  </td><td>3  </td><td>3  </td><td>3  </td><td>...</td><td>4  </td><td>5  </td><td>3  </td><td>5  </td><td>4  </td><td>4  </td><td>3  </td><td>5  </td><td>5  </td><td>5  </td></tr>\n",
       "</tbody>\n",
       "</table>\n"
      ],
      "text/latex": [
       "\\begin{tabular}{r|llllllllllllllllllllllllllllllllllllllllllllllllllllllllllllllllllllllllllllllllllllllllllllllllllll}\n",
       "  & V1 & V2 & V3 & V4 & V5 & V6 & V7 & V8 & V9 & V10 & ... & V91 & V92 & V93 & V94 & V95 & V96 & V97 & V98 & V99 & V100\\\\\n",
       "\\hline\n",
       "\t1017 & 4   & 5   & 5   & 5   & 5   & 5   & 5   & 4   & 4   & 4   & ... & 4   & 5   & 3   & 3   & 5   & 4   & 3   & 4   & 3   & 5  \\\\\n",
       "\t8004 & 3   & 3   & 5   & 4   & 5   & 5   & 3   & 3   & 4   & 4   & ... & 4   & 5   & 3   & 2   & 4   & 5   & 4   & 4   & 3   & 4  \\\\\n",
       "\t4775 & 2   & 3   & 3   & 2   & 4   & 5   & 4   & 3   & 3   & 2   & ... & 3   & 3   & 3   & 3   & 4   & 3   & 3   & 3   & 3   & 5  \\\\\n",
       "\t9725 & 2   & 4   & 4   & 4   & 4   & 4   & 3   & 3   & 4   & 4   & ... & 4   & 3   & 4   & 4   & 5   & 5   & 3   & 4   & 3   & 5  \\\\\n",
       "\t8462 & 4   & 4   & 5   & 4   & 5   & 5   & 4   & 3   & 5   & 3   & ... & 4   & 5   & 3   & 3   & 3   & 4   & 2   & 4   & 3   & 5  \\\\\n",
       "\t4050 & 5   & 5   & 4   & 4   & 5   & 3   & 4   & 3   & 3   & 3   & ... & 4   & 5   & 3   & 5   & 4   & 4   & 3   & 5   & 5   & 5  \\\\\n",
       "\\end{tabular}\n"
      ],
      "text/markdown": [
       "\n",
       "| <!--/--> | V1 | V2 | V3 | V4 | V5 | V6 | V7 | V8 | V9 | V10 | ... | V91 | V92 | V93 | V94 | V95 | V96 | V97 | V98 | V99 | V100 |\n",
       "|---|---|---|---|---|---|---|---|---|---|---|---|---|---|---|---|---|---|---|---|---|---|\n",
       "| 1017 | 4   | 5   | 5   | 5   | 5   | 5   | 5   | 4   | 4   | 4   | ... | 4   | 5   | 3   | 3   | 5   | 4   | 3   | 4   | 3   | 5   |\n",
       "| 8004 | 3   | 3   | 5   | 4   | 5   | 5   | 3   | 3   | 4   | 4   | ... | 4   | 5   | 3   | 2   | 4   | 5   | 4   | 4   | 3   | 4   |\n",
       "| 4775 | 2   | 3   | 3   | 2   | 4   | 5   | 4   | 3   | 3   | 2   | ... | 3   | 3   | 3   | 3   | 4   | 3   | 3   | 3   | 3   | 5   |\n",
       "| 9725 | 2   | 4   | 4   | 4   | 4   | 4   | 3   | 3   | 4   | 4   | ... | 4   | 3   | 4   | 4   | 5   | 5   | 3   | 4   | 3   | 5   |\n",
       "| 8462 | 4   | 4   | 5   | 4   | 5   | 5   | 4   | 3   | 5   | 3   | ... | 4   | 5   | 3   | 3   | 3   | 4   | 2   | 4   | 3   | 5   |\n",
       "| 4050 | 5   | 5   | 4   | 4   | 5   | 3   | 4   | 3   | 3   | 3   | ... | 4   | 5   | 3   | 5   | 4   | 4   | 3   | 5   | 5   | 5   |\n",
       "\n"
      ],
      "text/plain": [
       "     V1 V2 V3 V4 V5 V6 V7 V8 V9 V10 ... V91 V92 V93 V94 V95 V96 V97 V98 V99\n",
       "1017 4  5  5  5  5  5  5  4  4  4   ... 4   5   3   3   5   4   3   4   3  \n",
       "8004 3  3  5  4  5  5  3  3  4  4   ... 4   5   3   2   4   5   4   4   3  \n",
       "4775 2  3  3  2  4  5  4  3  3  2   ... 3   3   3   3   4   3   3   3   3  \n",
       "9725 2  4  4  4  4  4  3  3  4  4   ... 4   3   4   4   5   5   3   4   3  \n",
       "8462 4  4  5  4  5  5  4  3  5  3   ... 4   5   3   3   3   4   2   4   3  \n",
       "4050 5  5  4  4  5  3  4  3  3  3   ... 4   5   3   5   4   4   3   5   5  \n",
       "     V100\n",
       "1017 5   \n",
       "8004 4   \n",
       "4775 5   \n",
       "9725 5   \n",
       "8462 5   \n",
       "4050 5   "
      ]
     },
     "metadata": {},
     "output_type": "display_data"
    }
   ],
   "source": [
    "## In order to calculate distance based on user ratings, 1000 users are randomly selected.\n",
    "set.seed(1)\n",
    "sub_df = df_rating[sample(nrow(df_rating), 1000), ]\n",
    "head(sub_df)"
   ]
  },
  {
   "cell_type": "code",
   "execution_count": 254,
   "metadata": {},
   "outputs": [
    {
     "data": {
      "text/html": [
       "<table>\n",
       "<thead><tr><th></th><th scope=col>1017</th><th scope=col>8004</th><th scope=col>4775</th><th scope=col>9725</th><th scope=col>8462</th><th scope=col>4050</th><th scope=col>8789</th><th scope=col>1301</th><th scope=col>8522</th><th scope=col>1799</th><th scope=col>...</th><th scope=col>8377</th><th scope=col>2841</th><th scope=col>2426</th><th scope=col>4609</th><th scope=col>5770</th><th scope=col>8437</th><th scope=col>3679</th><th scope=col>3842</th><th scope=col>2928</th><th scope=col>450</th></tr></thead>\n",
       "<tbody>\n",
       "\t<tr><th scope=row>1017</th><td> 0.000000</td><td>10.770330</td><td>11.57584 </td><td>10.099505</td><td> 9.797959</td><td>10.535654</td><td>10.58301 </td><td>11.090537</td><td>11.66190 </td><td>10.58301 </td><td>...      </td><td>10.295630</td><td> 9.055385</td><td> 7.874008</td><td>12.20656 </td><td>10.677078</td><td> 9.380832</td><td> 9.219544</td><td>12.96148 </td><td>11.57584 </td><td>10.81665 </td></tr>\n",
       "\t<tr><th scope=row>8004</th><td>10.770330</td><td> 0.000000</td><td>11.48913 </td><td> 9.380832</td><td>10.000000</td><td>11.445523</td><td>12.00000 </td><td>10.440307</td><td>12.08305 </td><td>11.13553 </td><td>...      </td><td>11.224972</td><td>11.661904</td><td>10.583005</td><td>12.04159 </td><td>10.770330</td><td>11.135529</td><td>10.816654</td><td>12.40967 </td><td>12.88410 </td><td>11.53256 </td></tr>\n",
       "\t<tr><th scope=row>4775</th><td>11.575837</td><td>11.489125</td><td> 0.00000 </td><td>10.000000</td><td>12.165525</td><td>11.532563</td><td>12.16553 </td><td>10.723805</td><td>14.89966 </td><td>12.24745 </td><td>...      </td><td>12.165525</td><td>12.083046</td><td>10.392305</td><td>14.10674 </td><td> 9.797959</td><td>10.392305</td><td>11.532563</td><td>10.86278 </td><td>14.07125 </td><td>12.12436 </td></tr>\n",
       "\t<tr><th scope=row>9725</th><td>10.099505</td><td> 9.380832</td><td>10.00000 </td><td> 0.000000</td><td> 9.165151</td><td>10.148892</td><td>11.13553 </td><td> 9.643651</td><td>11.48913 </td><td>10.86278 </td><td>...      </td><td> 9.165151</td><td>10.295630</td><td> 9.486833</td><td>10.72381 </td><td> 8.944272</td><td> 8.124038</td><td> 9.746794</td><td>10.67708 </td><td>11.04536 </td><td>10.34408 </td></tr>\n",
       "\t<tr><th scope=row>8462</th><td> 9.797959</td><td>10.000000</td><td>12.16553 </td><td> 9.165151</td><td> 0.000000</td><td> 9.433981</td><td>11.48913 </td><td>11.269428</td><td>11.04536 </td><td>12.49000 </td><td>...      </td><td>10.099505</td><td>10.677078</td><td>10.000000</td><td>11.61895 </td><td>10.954451</td><td> 9.899495</td><td>10.344080</td><td>12.56981 </td><td>12.08305 </td><td>11.18034 </td></tr>\n",
       "\t<tr><th scope=row>4050</th><td>10.535654</td><td>11.445523</td><td>11.53256 </td><td>10.148892</td><td> 9.433981</td><td> 0.000000</td><td>11.61895 </td><td>10.099505</td><td>11.78983 </td><td>11.26943 </td><td>...      </td><td>11.180340</td><td>10.908712</td><td> 9.848858</td><td>11.66190 </td><td>10.908712</td><td> 9.327379</td><td>10.099505</td><td>12.04159 </td><td>12.44990 </td><td>11.57584 </td></tr>\n",
       "\t<tr><th scope=row>8789</th><td>10.583005</td><td>12.000000</td><td>12.16553 </td><td>11.135529</td><td>11.489125</td><td>11.618950</td><td> 0.00000 </td><td>11.090537</td><td>12.40967 </td><td>12.80625 </td><td>...      </td><td>10.862780</td><td>11.575837</td><td> 9.797959</td><td>12.76715 </td><td>12.247449</td><td>10.000000</td><td>11.269428</td><td>13.11488 </td><td>13.03840 </td><td>11.44552 </td></tr>\n",
       "\t<tr><th scope=row>1301</th><td>11.090537</td><td>10.440307</td><td>10.72381 </td><td> 9.643651</td><td>11.269428</td><td>10.099505</td><td>11.09054 </td><td> 0.000000</td><td>11.87434 </td><td>11.00000 </td><td>...      </td><td>11.180340</td><td> 9.643651</td><td> 9.746794</td><td>11.83216 </td><td>10.908712</td><td> 9.327379</td><td>10.295630</td><td>11.18034 </td><td>11.53256 </td><td>10.95445 </td></tr>\n",
       "\t<tr><th scope=row>8522</th><td>11.661904</td><td>12.083046</td><td>14.89966 </td><td>11.489125</td><td>11.045361</td><td>11.789826</td><td>12.40967 </td><td>11.874342</td><td> 0.00000 </td><td>12.16553 </td><td>...      </td><td>10.770330</td><td>11.661904</td><td>11.045361</td><td> 9.00000 </td><td>14.560220</td><td>10.862780</td><td> 9.643651</td><td>15.87451 </td><td>10.58301 </td><td>11.44552 </td></tr>\n",
       "\t<tr><th scope=row>1799</th><td>10.583005</td><td>11.135529</td><td>12.24745 </td><td>10.862780</td><td>12.489996</td><td>11.269428</td><td>12.80625 </td><td>11.000000</td><td>12.16553 </td><td> 0.00000 </td><td>...      </td><td>12.649111</td><td>10.295630</td><td> 9.899495</td><td>12.52996 </td><td>10.770330</td><td>10.770330</td><td>10.344080</td><td>12.72792 </td><td>11.91638 </td><td>12.52996 </td></tr>\n",
       "</tbody>\n",
       "</table>\n"
      ],
      "text/latex": [
       "\\begin{tabular}{r|llllllllllllllllllllllllllllllllllllllllllllllllllllllllllllllllllllllllllllllllllllllllllllllllllllllllllllllllllllllllllllllllllllllllllllllllllllllllllllllllllllllllllllllllllllllllllllllllllllllllllllllllllllllllllllllllllllllllllllllllllllllllllllllllllllllllllllllllllllllllllllllllllllllllllllllllllllllllllllllllllllllllllllllllllllllllllllllllllllllllllllllllllllllllllllllllllllllllllllllllllllllllllllllllllllllllllllllllllllllllllllllllllllllllllllllllllllllllllllllllllllllllllllllllllllllllllllllllllllllllllllllllllllllllllllllllllllllllllllllllllllllllllllllllllllllllllllllllllllllllllllllllllllllllllllllllllllllllllllllllllllllllllllllllllllllllllllllllllllllllllllllllllllllllllllllllllllllllllllllllllllllllllllllllllllllllllllllllllllllllllllllllllllllllllllllllllllllllllllllllllllllllllllllllllllllllllllllllllllllllllllllllllllllllllllllllllllllllllllllllllllllllllllllllllllllllllllllllllllllllllllllllllllllllllllllllllllllllllllllllllllllllllllllllllllllllllllllllllllllll}\n",
       "  & 1017 & 8004 & 4775 & 9725 & 8462 & 4050 & 8789 & 1301 & 8522 & 1799 & ... & 8377 & 2841 & 2426 & 4609 & 5770 & 8437 & 3679 & 3842 & 2928 & 450\\\\\n",
       "\\hline\n",
       "\t1017 &  0.000000 & 10.770330 & 11.57584  & 10.099505 &  9.797959 & 10.535654 & 10.58301  & 11.090537 & 11.66190  & 10.58301  & ...       & 10.295630 &  9.055385 &  7.874008 & 12.20656  & 10.677078 &  9.380832 &  9.219544 & 12.96148  & 11.57584  & 10.81665 \\\\\n",
       "\t8004 & 10.770330 &  0.000000 & 11.48913  &  9.380832 & 10.000000 & 11.445523 & 12.00000  & 10.440307 & 12.08305  & 11.13553  & ...       & 11.224972 & 11.661904 & 10.583005 & 12.04159  & 10.770330 & 11.135529 & 10.816654 & 12.40967  & 12.88410  & 11.53256 \\\\\n",
       "\t4775 & 11.575837 & 11.489125 &  0.00000  & 10.000000 & 12.165525 & 11.532563 & 12.16553  & 10.723805 & 14.89966  & 12.24745  & ...       & 12.165525 & 12.083046 & 10.392305 & 14.10674  &  9.797959 & 10.392305 & 11.532563 & 10.86278  & 14.07125  & 12.12436 \\\\\n",
       "\t9725 & 10.099505 &  9.380832 & 10.00000  &  0.000000 &  9.165151 & 10.148892 & 11.13553  &  9.643651 & 11.48913  & 10.86278  & ...       &  9.165151 & 10.295630 &  9.486833 & 10.72381  &  8.944272 &  8.124038 &  9.746794 & 10.67708  & 11.04536  & 10.34408 \\\\\n",
       "\t8462 &  9.797959 & 10.000000 & 12.16553  &  9.165151 &  0.000000 &  9.433981 & 11.48913  & 11.269428 & 11.04536  & 12.49000  & ...       & 10.099505 & 10.677078 & 10.000000 & 11.61895  & 10.954451 &  9.899495 & 10.344080 & 12.56981  & 12.08305  & 11.18034 \\\\\n",
       "\t4050 & 10.535654 & 11.445523 & 11.53256  & 10.148892 &  9.433981 &  0.000000 & 11.61895  & 10.099505 & 11.78983  & 11.26943  & ...       & 11.180340 & 10.908712 &  9.848858 & 11.66190  & 10.908712 &  9.327379 & 10.099505 & 12.04159  & 12.44990  & 11.57584 \\\\\n",
       "\t8789 & 10.583005 & 12.000000 & 12.16553  & 11.135529 & 11.489125 & 11.618950 &  0.00000  & 11.090537 & 12.40967  & 12.80625  & ...       & 10.862780 & 11.575837 &  9.797959 & 12.76715  & 12.247449 & 10.000000 & 11.269428 & 13.11488  & 13.03840  & 11.44552 \\\\\n",
       "\t1301 & 11.090537 & 10.440307 & 10.72381  &  9.643651 & 11.269428 & 10.099505 & 11.09054  &  0.000000 & 11.87434  & 11.00000  & ...       & 11.180340 &  9.643651 &  9.746794 & 11.83216  & 10.908712 &  9.327379 & 10.295630 & 11.18034  & 11.53256  & 10.95445 \\\\\n",
       "\t8522 & 11.661904 & 12.083046 & 14.89966  & 11.489125 & 11.045361 & 11.789826 & 12.40967  & 11.874342 &  0.00000  & 12.16553  & ...       & 10.770330 & 11.661904 & 11.045361 &  9.00000  & 14.560220 & 10.862780 &  9.643651 & 15.87451  & 10.58301  & 11.44552 \\\\\n",
       "\t1799 & 10.583005 & 11.135529 & 12.24745  & 10.862780 & 12.489996 & 11.269428 & 12.80625  & 11.000000 & 12.16553  &  0.00000  & ...       & 12.649111 & 10.295630 &  9.899495 & 12.52996  & 10.770330 & 10.770330 & 10.344080 & 12.72792  & 11.91638  & 12.52996 \\\\\n",
       "\\end{tabular}\n"
      ],
      "text/markdown": [
       "\n",
       "| <!--/--> | 1017 | 8004 | 4775 | 9725 | 8462 | 4050 | 8789 | 1301 | 8522 | 1799 | ... | 8377 | 2841 | 2426 | 4609 | 5770 | 8437 | 3679 | 3842 | 2928 | 450 |\n",
       "|---|---|---|---|---|---|---|---|---|---|---|---|---|---|---|---|---|---|---|---|---|---|\n",
       "| 1017 |  0.000000 | 10.770330 | 11.57584  | 10.099505 |  9.797959 | 10.535654 | 10.58301  | 11.090537 | 11.66190  | 10.58301  | ...       | 10.295630 |  9.055385 |  7.874008 | 12.20656  | 10.677078 |  9.380832 |  9.219544 | 12.96148  | 11.57584  | 10.81665  |\n",
       "| 8004 | 10.770330 |  0.000000 | 11.48913  |  9.380832 | 10.000000 | 11.445523 | 12.00000  | 10.440307 | 12.08305  | 11.13553  | ...       | 11.224972 | 11.661904 | 10.583005 | 12.04159  | 10.770330 | 11.135529 | 10.816654 | 12.40967  | 12.88410  | 11.53256  |\n",
       "| 4775 | 11.575837 | 11.489125 |  0.00000  | 10.000000 | 12.165525 | 11.532563 | 12.16553  | 10.723805 | 14.89966  | 12.24745  | ...       | 12.165525 | 12.083046 | 10.392305 | 14.10674  |  9.797959 | 10.392305 | 11.532563 | 10.86278  | 14.07125  | 12.12436  |\n",
       "| 9725 | 10.099505 |  9.380832 | 10.00000  |  0.000000 |  9.165151 | 10.148892 | 11.13553  |  9.643651 | 11.48913  | 10.86278  | ...       |  9.165151 | 10.295630 |  9.486833 | 10.72381  |  8.944272 |  8.124038 |  9.746794 | 10.67708  | 11.04536  | 10.34408  |\n",
       "| 8462 |  9.797959 | 10.000000 | 12.16553  |  9.165151 |  0.000000 |  9.433981 | 11.48913  | 11.269428 | 11.04536  | 12.49000  | ...       | 10.099505 | 10.677078 | 10.000000 | 11.61895  | 10.954451 |  9.899495 | 10.344080 | 12.56981  | 12.08305  | 11.18034  |\n",
       "| 4050 | 10.535654 | 11.445523 | 11.53256  | 10.148892 |  9.433981 |  0.000000 | 11.61895  | 10.099505 | 11.78983  | 11.26943  | ...       | 11.180340 | 10.908712 |  9.848858 | 11.66190  | 10.908712 |  9.327379 | 10.099505 | 12.04159  | 12.44990  | 11.57584  |\n",
       "| 8789 | 10.583005 | 12.000000 | 12.16553  | 11.135529 | 11.489125 | 11.618950 |  0.00000  | 11.090537 | 12.40967  | 12.80625  | ...       | 10.862780 | 11.575837 |  9.797959 | 12.76715  | 12.247449 | 10.000000 | 11.269428 | 13.11488  | 13.03840  | 11.44552  |\n",
       "| 1301 | 11.090537 | 10.440307 | 10.72381  |  9.643651 | 11.269428 | 10.099505 | 11.09054  |  0.000000 | 11.87434  | 11.00000  | ...       | 11.180340 |  9.643651 |  9.746794 | 11.83216  | 10.908712 |  9.327379 | 10.295630 | 11.18034  | 11.53256  | 10.95445  |\n",
       "| 8522 | 11.661904 | 12.083046 | 14.89966  | 11.489125 | 11.045361 | 11.789826 | 12.40967  | 11.874342 |  0.00000  | 12.16553  | ...       | 10.770330 | 11.661904 | 11.045361 |  9.00000  | 14.560220 | 10.862780 |  9.643651 | 15.87451  | 10.58301  | 11.44552  |\n",
       "| 1799 | 10.583005 | 11.135529 | 12.24745  | 10.862780 | 12.489996 | 11.269428 | 12.80625  | 11.000000 | 12.16553  |  0.00000  | ...       | 12.649111 | 10.295630 |  9.899495 | 12.52996  | 10.770330 | 10.770330 | 10.344080 | 12.72792  | 11.91638  | 12.52996  |\n",
       "\n"
      ],
      "text/plain": [
       "     1017      8004      4775     9725      8462      4050      8789    \n",
       "1017  0.000000 10.770330 11.57584 10.099505  9.797959 10.535654 10.58301\n",
       "8004 10.770330  0.000000 11.48913  9.380832 10.000000 11.445523 12.00000\n",
       "4775 11.575837 11.489125  0.00000 10.000000 12.165525 11.532563 12.16553\n",
       "9725 10.099505  9.380832 10.00000  0.000000  9.165151 10.148892 11.13553\n",
       "8462  9.797959 10.000000 12.16553  9.165151  0.000000  9.433981 11.48913\n",
       "4050 10.535654 11.445523 11.53256 10.148892  9.433981  0.000000 11.61895\n",
       "8789 10.583005 12.000000 12.16553 11.135529 11.489125 11.618950  0.00000\n",
       "1301 11.090537 10.440307 10.72381  9.643651 11.269428 10.099505 11.09054\n",
       "8522 11.661904 12.083046 14.89966 11.489125 11.045361 11.789826 12.40967\n",
       "1799 10.583005 11.135529 12.24745 10.862780 12.489996 11.269428 12.80625\n",
       "     1301      8522     1799     ... 8377      2841      2426      4609    \n",
       "1017 11.090537 11.66190 10.58301 ... 10.295630  9.055385  7.874008 12.20656\n",
       "8004 10.440307 12.08305 11.13553 ... 11.224972 11.661904 10.583005 12.04159\n",
       "4775 10.723805 14.89966 12.24745 ... 12.165525 12.083046 10.392305 14.10674\n",
       "9725  9.643651 11.48913 10.86278 ...  9.165151 10.295630  9.486833 10.72381\n",
       "8462 11.269428 11.04536 12.49000 ... 10.099505 10.677078 10.000000 11.61895\n",
       "4050 10.099505 11.78983 11.26943 ... 11.180340 10.908712  9.848858 11.66190\n",
       "8789 11.090537 12.40967 12.80625 ... 10.862780 11.575837  9.797959 12.76715\n",
       "1301  0.000000 11.87434 11.00000 ... 11.180340  9.643651  9.746794 11.83216\n",
       "8522 11.874342  0.00000 12.16553 ... 10.770330 11.661904 11.045361  9.00000\n",
       "1799 11.000000 12.16553  0.00000 ... 12.649111 10.295630  9.899495 12.52996\n",
       "     5770      8437      3679      3842     2928     450     \n",
       "1017 10.677078  9.380832  9.219544 12.96148 11.57584 10.81665\n",
       "8004 10.770330 11.135529 10.816654 12.40967 12.88410 11.53256\n",
       "4775  9.797959 10.392305 11.532563 10.86278 14.07125 12.12436\n",
       "9725  8.944272  8.124038  9.746794 10.67708 11.04536 10.34408\n",
       "8462 10.954451  9.899495 10.344080 12.56981 12.08305 11.18034\n",
       "4050 10.908712  9.327379 10.099505 12.04159 12.44990 11.57584\n",
       "8789 12.247449 10.000000 11.269428 13.11488 13.03840 11.44552\n",
       "1301 10.908712  9.327379 10.295630 11.18034 11.53256 10.95445\n",
       "8522 14.560220 10.862780  9.643651 15.87451 10.58301 11.44552\n",
       "1799 10.770330 10.770330 10.344080 12.72792 11.91638 12.52996"
      ]
     },
     "metadata": {},
     "output_type": "display_data"
    }
   ],
   "source": [
    "## Compute Euclideadn distance between users.\n",
    "dist = as.matrix(stats::dist(sub_df, method = \"euclidean\"))\n",
    "head(dist,10)"
   ]
  },
  {
   "cell_type": "code",
   "execution_count": 265,
   "metadata": {},
   "outputs": [
    {
     "data": {
      "text/html": [
       "<table>\n",
       "<tbody>\n",
       "\t<tr><th scope=row>1017</th><td> 0.9284400 </td><td> 1.71660020</td></tr>\n",
       "\t<tr><th scope=row>8004</th><td> 0.1627574 </td><td> 0.11891347</td></tr>\n",
       "\t<tr><th scope=row>4775</th><td>-4.3160867 </td><td>-0.10511333</td></tr>\n",
       "\t<tr><th scope=row>9725</th><td>-1.0561077 </td><td>-1.62160096</td></tr>\n",
       "\t<tr><th scope=row>8462</th><td>-0.2597078 </td><td> 0.08362216</td></tr>\n",
       "\t<tr><th scope=row>4050</th><td>-1.3075328 </td><td>-1.08332166</td></tr>\n",
       "</tbody>\n",
       "</table>\n"
      ],
      "text/latex": [
       "\\begin{tabular}{r|ll}\n",
       "\t1017 &  0.9284400  &  1.71660020\\\\\n",
       "\t8004 &  0.1627574  &  0.11891347\\\\\n",
       "\t4775 & -4.3160867  & -0.10511333\\\\\n",
       "\t9725 & -1.0561077  & -1.62160096\\\\\n",
       "\t8462 & -0.2597078  &  0.08362216\\\\\n",
       "\t4050 & -1.3075328  & -1.08332166\\\\\n",
       "\\end{tabular}\n"
      ],
      "text/markdown": [
       "\n",
       "| 1017 |  0.9284400  |  1.71660020 |\n",
       "| 8004 |  0.1627574  |  0.11891347 |\n",
       "| 4775 | -4.3160867  | -0.10511333 |\n",
       "| 9725 | -1.0561077  | -1.62160096 |\n",
       "| 8462 | -0.2597078  |  0.08362216 |\n",
       "| 4050 | -1.3075328  | -1.08332166 |\n",
       "\n"
      ],
      "text/plain": [
       "     [,1]       [,2]       \n",
       "1017  0.9284400  1.71660020\n",
       "8004  0.1627574  0.11891347\n",
       "4775 -4.3160867 -0.10511333\n",
       "9725 -1.0561077 -1.62160096\n",
       "8462 -0.2597078  0.08362216\n",
       "4050 -1.3075328 -1.08332166"
      ]
     },
     "metadata": {},
     "output_type": "display_data"
    }
   ],
   "source": [
    "mds = cmdscale(dist, 2)\n",
    "head(mds)"
   ]
  },
  {
   "cell_type": "code",
   "execution_count": 264,
   "metadata": {},
   "outputs": [
    {
     "data": {
      "image/png": "[encoded data removed]",
      "text/plain": [
       "plot without title"
      ]
     },
     "metadata": {},
     "output_type": "display_data"
    }
   ],
   "source": [
    "plot(mds)"
   ]
  },
  {
   "cell_type": "markdown",
   "metadata": {},
   "source": [
    "##### We can see that mds coordinates are centered which shows us people generally gaves similar ratings."
   ]
  },
  {
   "cell_type": "code",
   "execution_count": null,
   "metadata": {},
   "outputs": [],
   "source": []
  }
 ],
 "metadata": {
  "kernelspec": {
   "display_name": "R",
   "language": "R",
   "name": "ir"
  },
  "language_info": {
   "codemirror_mode": "r",
   "file_extension": ".r",
   "mimetype": "text/x-r-source",
   "name": "R",
   "pygments_lexer": "r",
   "version": "3.6.1"
  }
 },
 "nbformat": 4,
 "nbformat_minor": 4
}
